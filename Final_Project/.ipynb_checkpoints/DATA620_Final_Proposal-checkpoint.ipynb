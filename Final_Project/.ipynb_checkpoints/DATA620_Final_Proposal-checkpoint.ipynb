{
 "cells": [
  {
   "cell_type": "markdown",
   "metadata": {},
   "source": [
    "### CUNY Data 620 - Web Analytics, Summer 2020  \n",
    "**Final Project Proposal**   \n",
    "**Prof:** Alain Ledon  \n",
    "**Members:** Misha Kollontai, Amber Ferger, Zach Alexander, Subhalaxmi Rout"
   ]
  },
  {
   "cell_type": "markdown",
   "metadata": {},
   "source": [
    "### Instructions\n",
    "Your proposal should describe at a high level what you’re seeking to accomplish, and your motivation for performing this analysis. A guiding question or hypothesis to test is one good way to start. If you are going to work in a small group (encouraged!), you should also list your partners’ names. \n",
    "\n",
    "You should briefly describe your data sources; plan for doing the work, and up front concerns. If you are working in a group, please describe the roles and responsibilities of each group member. \n",
    "\n",
    "We’ll treat this proposal as a planning document, not a blue print containing “firm, fixed requirements.” "
   ]
  },
  {
   "cell_type": "markdown",
   "metadata": {},
   "source": [
    "## The Proposal\n",
    "\n",
    "The focus of our project will be a form of sentiment analysis on Tweets related to Covid-19. We will first scrape Tweets from a particular location using Covid-related hashtags, evaluate overall sentiment within these Tweets and then compare that to data on the number and severity of Coronavirus cases at that location. The goal is to investigate any potential relationship between Tweet sentiment and Covid-19 cases. \n",
    "\n",
    "The overall sentiment may reflect reactions to the number of cases, in which case it would largely be inversely proportional to the number of cases. The relationship is, however, likely much more complex than that. There are states in the US that are experiencing recent rapid rises in the number of cases (likely due to easing of restrictions). In places like this sentiment may trend more positively as the residents see restrictions easing, while the result is actually a rapid rise in case number. In this instance the positive setiment may be reflective of behavior that would actually lead to more Coronavirus cases. \n",
    "\n",
    "We hope to look at these trends in various locations and specifically focus on key moments such as changes in the official enforcement of social-distancing and announcements by government agencies to study the relationship between Tweet sentiment and number of Covid-19 cases. "
   ]
  },
  {
   "cell_type": "markdown",
   "metadata": {},
   "source": [
    "### Research Questions\n",
    "\n",
    "* Is there a relationship between location-specific Covid-19 sentiment and the number of positive cases within that region? \n",
    "* Does positive sentiment preceed spikes in positive cases?"
   ]
  },
  {
   "cell_type": "markdown",
   "metadata": {},
   "source": [
    "### The Data\n",
    "\n",
    "We will be using the Twitter API to scrape Tweet data, [John's Hopkins COVID-19 Data](https://github.com/CSSEGISandData/COVID-19) and [Wikipedia](https://en.wikipedia.org/wiki/COVID-19_pandemic_in_the_United_States) for the COVID-19 numbers. "
   ]
  },
  {
   "cell_type": "markdown",
   "metadata": {},
   "source": [
    "### The Plan\n",
    "\n",
    "1. Scrape Twitter data from 2 locations - perhaps NYC (severe initial wave) and New Orleans (experiencing something of a second wave)\n",
    "2. Pull coronavirus case numbers for the 2 locations in question\n",
    "3. Perform sentiment analyis on the tweets collected and aggregate them into an overall sentiment index for each day\n",
    "4. Plot timeseries of the sentiment index -vs- Coronavirus case numbers\n",
    "5. Indicate important moments on the timeline related to Covid-19 safety measures or announcements\n",
    "6. Investigate potential relationships between the two sets and compare the relationships from one city to another"
   ]
  },
  {
   "cell_type": "markdown",
   "metadata": {},
   "source": [
    "### Roles and Responsibilities\n",
    "We will be splitting up the project into the following parts:\n",
    "1. **Data Scraping** - *Misha Kollontai* will primarily be responsible for pulling the initial Twitter data from the API. \n",
    "2. **Coronavirus Case Numbers & Events** - *Subha Rout* will be responsible for pulling the coronavirus case numbers by day as well as location-specific events. \n",
    "3. **Sentiment Analysis** - *Amber Ferger* will be responsible for analyzing the sentiment of the tweets. \n",
    "4. **Visualization** - *Zach Alexander* will be responsible for visualizing the data. \n",
    "5. **Analysis & Conclusions** - *We will all* work in conjunction to analyze the data and develop conclusions. "
   ]
  },
  {
   "cell_type": "markdown",
   "metadata": {},
   "source": [
    "### Concerns\n",
    "\n",
    "1. Sentiment analysis related to tweets featuring #coronavirus or something similar may reflect negative sentiment with respect to the state of the virus or with respect to government policies. Similar laguage in two tweets may be expressing nearly opposite viewpoints\n",
    "2. The potential volume of tweets we will be working with will be immense, so subsetting will very likely be required. The basis on which this subsetting is done will influence the set of sentiment we are expossed to. \n",
    "3. We may see little to no relationship between sentiment and number of cases. The response to the virus has been in many cases driven by political leanings, skewing the impact of tweet sentiment based on the source of additional data. "
   ]
  }
 ],
 "metadata": {
  "kernelspec": {
   "display_name": "Python 3",
   "language": "python",
   "name": "python3"
  },
  "language_info": {
   "codemirror_mode": {
    "name": "ipython",
    "version": 3
   },
   "file_extension": ".py",
   "mimetype": "text/x-python",
   "name": "python",
   "nbconvert_exporter": "python",
   "pygments_lexer": "ipython3",
   "version": "3.7.6"
  }
 },
 "nbformat": 4,
 "nbformat_minor": 4
}
