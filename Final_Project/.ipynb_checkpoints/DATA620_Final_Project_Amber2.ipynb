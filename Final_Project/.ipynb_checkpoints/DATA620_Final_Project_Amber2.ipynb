{
 "cells": [
  {
   "cell_type": "markdown",
   "metadata": {},
   "source": [
    "### CUNY Data 620 - Web Analytics, Summer 2020  \n",
    "**Final Project**   \n",
    "**Prof:** Alain Ledon  \n",
    "**Members:** Misha Kollontai, Amber Ferger, Zach Alexander, Subhalaxmi Rout \n",
    "\n",
    "**Youtube Link:** "
   ]
  },
  {
   "cell_type": "markdown",
   "metadata": {},
   "source": [
    "### Instructions\n",
    "Your project should incorporate one or both of the two main themes of this course: network analysis and text processing. You need to show all of your work in a coherent workflow, and in a reproducible format, such as an IPython Notebook or an R Markdown document. If you are building a model or models, explain how you evaluate the “goodness” of the chosen model and parameters. "
   ]
  },
  {
   "cell_type": "markdown",
   "metadata": {},
   "source": [
    "### Research Purpose\n",
    "\n",
    "For this project, we will be pulling twitter data related to the Coronavirus pandemic in the United States. Our primary objective will be to identify the relationship between city and overall sentiment towards covid. We will look at the average daily tweet sentiment for **NYC** (severe initial wave) and **New Orleans** (experiencing something of a second wave) to see if there are regional differences. From this, we would like to answer the following questions:\n",
    "\n",
    "* Is there a relationship between location-specific Covid-19 sentiment and the number of positive cases within that region?\n",
    "* Does positive sentiment preceed spikes in positive cases?\n",
    "\n",
    "As a secondary objective, we would like to identify relationships between major US cities by looking at shared tweet hashtags. We aim to create a network from these relationships where nodes represent cities and edges represent shared use of hashtags. In doing this, we would like to answer the following questions:\n",
    "\n",
    "* What issues (additional hashtags) are discussed in conjunction with Covid-19?\n",
    "* What differences in hashtag use is there across the country?\n",
    "* Are there certain cities that care about similar issues (additional hashtags)?\n",
    "\n",
    "As a stretch goal, we would also like to answer the question: Is there a relationship between location-specific Covid-19 hashtags and the number of positive cases within that region? "
   ]
  },
  {
   "cell_type": "markdown",
   "metadata": {},
   "source": [
    "### The Data\n",
    "\n",
    "#### Relevant Cities\n",
    "First, we generated a list of geocodes that related to the most populous city in each US state (plus DC). This data was pulled from the [1000 Largest US Cities By Population With Geographic Coordinates](https://public.opendatasoft.com/explore/dataset/1000-largest-us-cities-by-population-with-geographic-coordinates/table/?sort=-rank). \n",
    "\n",
    "\n",
    "#### Covid-Tweets\n",
    "Our initial plan was to use the Twitter API to pull in relevant tweets, but we later realized that the API only allows users to pull back 5 days worth of data. Because of this, we turned to the [*GetOldTweets3*](https://pypi.org/project/GetOldTweets3/) package, which allowed us to return tweets with the following specifications:\n",
    "\n",
    "* **Date Range**: 3/8/2020 - 7/15/2020, pulled in biweekly groupings by city.\n",
    "* The tweet itself contains the word **Covid** or it is included in one of the hashtags.\n",
    "* The limit on the total number of tweets per API call is 1000 per date increment. Some of our cities had the full 1000 tweets while others contained less. \n",
    "\n",
    "Our final output includes: tweet text, additional hashtags, tweet date, twitter username, and city coordinates. \n",
    "\n",
    "Please see the **tweetPull** notebook for more information about the the extraction of relevant tweets. \n",
    "\n",
    "\n",
    "#### Covid Case Numbers\n",
    "\n",
    "We used [John's Hopkins COVID-19 Data](https://github.com/CSSEGISandData/COVID-19) and [Wikipedia](https://en.wikipedia.org/wiki/COVID-19_pandemic_in_the_United_States) for the COVID-19 numbers. "
   ]
  },
  {
   "cell_type": "markdown",
   "metadata": {},
   "source": [
    "### Libraries"
   ]
  },
  {
   "cell_type": "code",
   "execution_count": 1,
   "metadata": {},
   "outputs": [],
   "source": [
    "import pandas as pd\n",
    "import numpy as np\n",
    "from itertools import combinations\n",
    "from vaderSentiment.vaderSentiment import SentimentIntensityAnalyzer\n",
    "import matplotlib.pyplot as plt\n",
    "import matplotlib.dates as mdates\n",
    "#from mpl_toolkits.basemap import Basemap\n",
    "import networkx as nx\n",
    "import warnings\n",
    "warnings.filterwarnings('ignore')"
   ]
  },
  {
   "cell_type": "markdown",
   "metadata": {},
   "source": [
    "### Data\n",
    "First, we'll pull in our twitter and our covid cases data. Since our first set of research questions are focused only on New York and New Orleans, we will create separate dataframes for this information. \n",
    "\n",
    "#### Twitter Data\n",
    "We can see that each state has 1000 tweets within the timeframe."
   ]
  },
  {
   "cell_type": "code",
   "execution_count": 45,
   "metadata": {},
   "outputs": [
    {
     "name": "stdout",
     "output_type": "stream",
     "text": [
      "Number of NY tweets:  (1000, 11)\n",
      "Number of New Orleans tweets:  (1000, 11)\n"
     ]
    },
    {
     "data": {
      "text/plain": [
       "'2020-07-14 23:59:45+00:00'"
      ]
     },
     "execution_count": 45,
     "metadata": {},
     "output_type": "execute_result"
    }
   ],
   "source": [
    "# read in and replace nulls\n",
    "tweets = pd.read_csv('Covid_Twitter_City_Data2.csv', delimiter=',')\n",
    "tweets = tweets.replace(np.nan, '', regex=True)\n",
    "\n",
    "nyTweets = tweets[tweets[\"City\"] == \"New York\"]\n",
    "noTweets = tweets[tweets[\"City\"] == \"New Orleans\"]\n",
    "\n",
    "print('Number of NY tweets: ', nyTweets.shape)\n",
    "print('Number of New Orleans tweets: ',noTweets.shape)\n",
    "nyTweets['TWEET_DATE'].min()\n",
    "nyTweets['TWEET_DATE'].max()"
   ]
  },
  {
   "cell_type": "markdown",
   "metadata": {},
   "source": [
    "##### Covid Case Data\n",
    "\n",
    "We'll filter by FIPS code, transpose the data to create the proper format, reset the index, and adjust the datetype. \n",
    "\n",
    "We can take a quick look at the last 5 dates for NYC dataset:"
   ]
  },
  {
   "cell_type": "code",
   "execution_count": 18,
   "metadata": {},
   "outputs": [
    {
     "data": {
      "text/html": [
       "<div>\n",
       "<style scoped>\n",
       "    .dataframe tbody tr th:only-of-type {\n",
       "        vertical-align: middle;\n",
       "    }\n",
       "\n",
       "    .dataframe tbody tr th {\n",
       "        vertical-align: top;\n",
       "    }\n",
       "\n",
       "    .dataframe thead th {\n",
       "        text-align: right;\n",
       "    }\n",
       "</style>\n",
       "<table border=\"1\" class=\"dataframe\">\n",
       "  <thead>\n",
       "    <tr style=\"text-align: right;\">\n",
       "      <th></th>\n",
       "      <th>Date</th>\n",
       "      <th>Confirmed_Cases</th>\n",
       "    </tr>\n",
       "  </thead>\n",
       "  <tbody>\n",
       "    <tr>\n",
       "      <th>170</th>\n",
       "      <td>2020-07-10</td>\n",
       "      <td>218403</td>\n",
       "    </tr>\n",
       "    <tr>\n",
       "      <th>171</th>\n",
       "      <td>2020-07-11</td>\n",
       "      <td>218710</td>\n",
       "    </tr>\n",
       "    <tr>\n",
       "      <th>172</th>\n",
       "      <td>2020-07-12</td>\n",
       "      <td>219051</td>\n",
       "    </tr>\n",
       "    <tr>\n",
       "      <th>173</th>\n",
       "      <td>2020-07-13</td>\n",
       "      <td>219301</td>\n",
       "    </tr>\n",
       "    <tr>\n",
       "      <th>174</th>\n",
       "      <td>2020-07-14</td>\n",
       "      <td>219616</td>\n",
       "    </tr>\n",
       "  </tbody>\n",
       "</table>\n",
       "</div>"
      ],
      "text/plain": [
       "          Date  Confirmed_Cases\n",
       "170 2020-07-10           218403\n",
       "171 2020-07-11           218710\n",
       "172 2020-07-12           219051\n",
       "173 2020-07-13           219301\n",
       "174 2020-07-14           219616"
      ]
     },
     "execution_count": 18,
     "metadata": {},
     "output_type": "execute_result"
    }
   ],
   "source": [
    "# load in covid case data\n",
    "covid_cases = pd.read_csv('confirmed_cases.csv')\n",
    "\n",
    "########## NYC cases\n",
    "cases_filtered = covid_cases[covid_cases['FIPS'] == 36061]\n",
    "df = cases_filtered.iloc[:, 11:186:1]\n",
    "\n",
    "df = df.transpose().reset_index()\n",
    "df = df.rename(columns={'index': 'Date', 1863: \"Confirmed_Cases\"})\n",
    "\n",
    "nyc_time_series = pd.DataFrame(df, columns = ['Date','Confirmed_Cases'])\n",
    "nyc_time_series['Date'] = pd.to_datetime(nyc_time_series['Date'], format='%m/%d/%y')\n",
    "\n",
    "nyc_time_series.tail()"
   ]
  },
  {
   "cell_type": "markdown",
   "metadata": {},
   "source": [
    "And also for New Orleans:"
   ]
  },
  {
   "cell_type": "code",
   "execution_count": 19,
   "metadata": {},
   "outputs": [
    {
     "data": {
      "text/html": [
       "<div>\n",
       "<style scoped>\n",
       "    .dataframe tbody tr th:only-of-type {\n",
       "        vertical-align: middle;\n",
       "    }\n",
       "\n",
       "    .dataframe tbody tr th {\n",
       "        vertical-align: top;\n",
       "    }\n",
       "\n",
       "    .dataframe thead th {\n",
       "        text-align: right;\n",
       "    }\n",
       "</style>\n",
       "<table border=\"1\" class=\"dataframe\">\n",
       "  <thead>\n",
       "    <tr style=\"text-align: right;\">\n",
       "      <th></th>\n",
       "      <th>Date</th>\n",
       "      <th>Confirmed_Cases</th>\n",
       "    </tr>\n",
       "  </thead>\n",
       "  <tbody>\n",
       "    <tr>\n",
       "      <th>170</th>\n",
       "      <td>2020-07-10</td>\n",
       "      <td>8476</td>\n",
       "    </tr>\n",
       "    <tr>\n",
       "      <th>171</th>\n",
       "      <td>2020-07-11</td>\n",
       "      <td>8598</td>\n",
       "    </tr>\n",
       "    <tr>\n",
       "      <th>172</th>\n",
       "      <td>2020-07-12</td>\n",
       "      <td>8665</td>\n",
       "    </tr>\n",
       "    <tr>\n",
       "      <th>173</th>\n",
       "      <td>2020-07-13</td>\n",
       "      <td>8745</td>\n",
       "    </tr>\n",
       "    <tr>\n",
       "      <th>174</th>\n",
       "      <td>2020-07-14</td>\n",
       "      <td>8846</td>\n",
       "    </tr>\n",
       "  </tbody>\n",
       "</table>\n",
       "</div>"
      ],
      "text/plain": [
       "          Date  Confirmed_Cases\n",
       "170 2020-07-10             8476\n",
       "171 2020-07-11             8598\n",
       "172 2020-07-12             8665\n",
       "173 2020-07-13             8745\n",
       "174 2020-07-14             8846"
      ]
     },
     "execution_count": 19,
     "metadata": {},
     "output_type": "execute_result"
    }
   ],
   "source": [
    "########## New Orleans cases\n",
    "cases_filtered_newo = covid_cases[covid_cases['FIPS'] == 22071]\n",
    "df_newo = cases_filtered_newo.iloc[:, 11:186:1]\n",
    "\n",
    "df_newo = df_newo.transpose().reset_index()\n",
    "df_newo = df_newo.rename(columns={'index': 'Date', 1153: \"Confirmed_Cases\"})\n",
    "\n",
    "newo_time_series = pd.DataFrame(df_newo, columns = ['Date','Confirmed_Cases'])\n",
    "newo_time_series['Date'] = pd.to_datetime(newo_time_series['Date'], format='%m/%d/%y')\n",
    "\n",
    "newo_time_series.tail()"
   ]
  },
  {
   "cell_type": "markdown",
   "metadata": {},
   "source": [
    "Next, we'll define some custom functions to visualize the data. \n",
    "\n",
    "In order to find the number of new cases per day, we can utilize our confirmed cases column to take the difference between the current day and the previous day. Additionally, for our visualization, we can take the 7-day average of new cases and plot this as well, in order to obtain a better view of trends over time. We can also create a function to plot the case counts. "
   ]
  },
  {
   "cell_type": "code",
   "execution_count": 12,
   "metadata": {},
   "outputs": [],
   "source": [
    "############### New cases per day\n",
    "def add_newcases(df):\n",
    "    df['New_Cases'] = 'NA'\n",
    "    for i in range(0, len(df['Confirmed_Cases'])):\n",
    "        if i == 0:\n",
    "            df['New_Cases'][i] = 0\n",
    "        else:\n",
    "            df['New_Cases'][i] = df['Confirmed_Cases'][i] - df['Confirmed_Cases'][i-1]\n",
    "    return df\n",
    "\n",
    "############### Seven day averages\n",
    "def add_sevenday(df):\n",
    "    df['Seven_Day_Avg'] = 'NA'\n",
    "    for i in range(0, len(df['Confirmed_Cases'])):\n",
    "        if i < 8:\n",
    "            df['Seven_Day_Avg'][i] = 0\n",
    "        else:\n",
    "            weekly = []\n",
    "            for y in range(0,7):\n",
    "                weekly.append(df['New_Cases'][i-y])\n",
    "            df['Seven_Day_Avg'][i] = sum(weekly) / 7\n",
    "    return df\n",
    "\n",
    "############### Plot case counts \n",
    "def drawNewCases(df, title, fignum, var):\n",
    "    var = plt.figure(fignum, figsize=(16,8))\n",
    "    plt.bar(df['Date'], df['New_Cases'], color='indianred', alpha=0.4)\n",
    "    plt.plot(df['Date'], df['Seven_Day_Avg'], c='indianred', linewidth=2)\n",
    "    plt.plot(legend=None)\n",
    "    plt.title(title)\n",
    "    plt.ylabel('Number of New Cases')\n",
    "    plt.gca().xaxis.set_major_formatter(fmt)\n",
    "    var.show()"
   ]
  },
  {
   "cell_type": "markdown",
   "metadata": {},
   "source": [
    "We can now plot the daily cases by city: "
   ]
  },
  {
   "cell_type": "code",
   "execution_count": 13,
   "metadata": {},
   "outputs": [
    {
     "data": {
      "image/png": "[encoded data removed]",
      "text/plain": [
       "<Figure size 1152x576 with 1 Axes>"
      ]
     },
     "metadata": {
      "needs_background": "light"
     },
     "output_type": "display_data"
    }
   ],
   "source": [
    "# calculate new cases per day and seven day averages\n",
    "df = add_newcases(nyc_time_series)\n",
    "df = add_sevenday(df)\n",
    "\n",
    "# plot counts\n",
    "locator = mdates.MonthLocator()\n",
    "fmt = mdates.DateFormatter('%B')\n",
    "\n",
    "nyc_time_series = pd.DataFrame(df, columns = ['Date','Confirmed_Cases', 'New_Cases', 'Seven_Day_Avg'])\n",
    "nyc_time_series['Date'] = pd.to_datetime(nyc_time_series['Date'], format='%m/%d/%y')\n",
    "\n",
    "drawNewCases(nyc_time_series, 'Number of new COVID-19 cases in New York City (Daily)', 1, 'x')"
   ]
  },
  {
   "cell_type": "code",
   "execution_count": 14,
   "metadata": {},
   "outputs": [
    {
     "data": {
      "image/png": "[encoded data removed]",
      "text/plain": [
       "<Figure size 1152x576 with 1 Axes>"
      ]
     },
     "metadata": {
      "needs_background": "light"
     },
     "output_type": "display_data"
    }
   ],
   "source": [
    "df_newo = add_newcases(newo_time_series)\n",
    "df_newo = add_sevenday(df_newo)\n",
    "\n",
    "newo_time_series = pd.DataFrame(df_newo, columns = ['Date','Confirmed_Cases', 'New_Cases', 'Seven_Day_Avg'])\n",
    "newo_time_series['Date'] = pd.to_datetime(newo_time_series['Date'], format='%m/%d/%y')\n",
    "\n",
    "drawNewCases(newo_time_series, 'Number of new COVID-19 cases in New Orleans (Daily)', 2, 'y')"
   ]
  },
  {
   "cell_type": "markdown",
   "metadata": {},
   "source": [
    "### Sentiment Analysis\n",
    "\n",
    "In order to capture the sentiment of our tweets, we'll use the *vaderSentiment* package. We will define a customized function that returns the negative, positive, neutral, and compound scores of the given tweet. We'll also define a function that will format the final output of the sentiment analysis."
   ]
  },
  {
   "cell_type": "code",
   "execution_count": 29,
   "metadata": {},
   "outputs": [],
   "source": [
    "############### sentiment analysis\n",
    "def sentiment_analyzer_scores(sentence):\n",
    "    score = analyser.polarity_scores(sentence)\n",
    "    neg = score['neg']\n",
    "    pos = score['pos']\n",
    "    neu = score['neu']\n",
    "    compound= score['compound']\n",
    "    \n",
    "    return [neg,pos,neu,compound, sentence]\n",
    "\n",
    "############### analysis formatting\n",
    "def formatSentiment(ls, df):\n",
    "    sents = [sentiment_analyzer_scores(s) for s in ls]\n",
    "    sentDf = pd.DataFrame(sents, columns = ['NEGATIVE_SCORE', 'POSITIVE_SCORE', 'NEUTRAL_SCORE', 'COMPOUND', 'SENTENCE'])\n",
    "    final = df.join(sentDf)\n",
    "    return final.iloc[:,1:-1]"
   ]
  },
  {
   "cell_type": "markdown",
   "metadata": {},
   "source": [
    "We can then apply this function to our twitter dataframe and separate by city. "
   ]
  },
  {
   "cell_type": "code",
   "execution_count": 34,
   "metadata": {},
   "outputs": [],
   "source": [
    "finalSentiment = formatSentiment(text, tweets)\n",
    "\n",
    "no1 = finalSentiment[finalSentiment[\"City\"] == \"New Orleans\"]\n",
    "ny1 = finalSentiment[finalSentiment[\"City\"] == \"New York\"]"
   ]
  },
  {
   "cell_type": "code",
   "execution_count": 41,
   "metadata": {},
   "outputs": [],
   "source": [
    "#ny1.sort_values(by=['POSITIVE_SCORE'], ascending=False).head(10)"
   ]
  },
  {
   "cell_type": "markdown",
   "metadata": {},
   "source": [
    "### Creating a Network\n",
    "* **Nodes**: Cities, **TO DO: color: sentiment, size: portion of population affected by covid**\n",
    "* **Edges**: Shared Hashtags, **TO DO: edge weights: number of shared hashtags**\n",
    "\n",
    "#### Hashtags by Coordinate\n",
    "First, we'll define 2 functions that will help to format our hashtag data. The first will be used to split the hashtag column into separate entities and the second will be used to create a final edge list for our network."
   ]
  },
  {
   "cell_type": "code",
   "execution_count": 17,
   "metadata": {},
   "outputs": [],
   "source": [
    "############### splitting hashtag groupings\n",
    "def splitTags(x,y):\n",
    "    return [(x,z) for z in y]\n",
    "\n",
    "############### create edge list\n",
    "def createEdges(ls):    \n",
    "    productList = []\n",
    "    \n",
    "    for i in ls:\n",
    "        if len(i) >1:\n",
    "            productList.append(list(combinations(i,2)))\n",
    "    \n",
    "    return [val for sublist in productList for val in sublist]"
   ]
  },
  {
   "cell_type": "code",
   "execution_count": 4,
   "metadata": {},
   "outputs": [
    {
     "data": {
      "text/plain": [
       "[[], [], [], ['#CX', '#COVID', '#custserv']]"
      ]
     },
     "execution_count": 4,
     "metadata": {},
     "output_type": "execute_result"
    }
   ],
   "source": [
    "# hashtags & coordinates for each record\n",
    "hashtags = tweets['HASHTAGS'].tolist()\n",
    "coords = tweets['COORDS'].tolist()\n",
    "sepHash = [i.split() for i in hashtags]\n",
    "sepHash[1:5]"
   ]
  },
  {
   "cell_type": "code",
   "execution_count": 5,
   "metadata": {},
   "outputs": [
    {
     "name": "stdout",
     "output_type": "stream",
     "text": [
      "Example output from the hashtag #FollowTheScience:\n"
     ]
    },
    {
     "data": {
      "text/plain": [
       "['38.9071923,-77.0368707',\n",
       " '41.8781136,-87.6297982',\n",
       " '39.9525839,-75.1652215',\n",
       " '34.7464809,-92.2895948',\n",
       " '39.7392358,-104.990251',\n",
       " '47.6062095,-122.3320708',\n",
       " '34.0522342,-118.2436849',\n",
       " '39.9611755,-82.9987942']"
      ]
     },
     "execution_count": 5,
     "metadata": {},
     "output_type": "execute_result"
    }
   ],
   "source": [
    "# set of all coordinates with individual hashtag\n",
    "coordTag = [splitTags(i,j) for i,j in list(zip(coords,sepHash)) if len(j)> 0]\n",
    "flattened = [val for sublist in coordTag for val in sublist]\n",
    "finalHash = set(flattened)\n",
    "\n",
    "# create a dictionary of each hashtag with the city coordinates\n",
    "tempDict = {}\n",
    "for i,j in finalHash:\n",
    "    if j not in tempDict:\n",
    "        tempDict[j]= [i]\n",
    "    else:\n",
    "        tempDict[j].append(i)\n",
    "        \n",
    "# remove covid hashtags from dictionary\n",
    "tagsToRemove = ['#covid_19', '#COVID19', '#COVID2019', '#COVID_19', '#COVID__19', '#COVID', '#CoronavirusUSA', '#CV19',\n",
    "                '#COVD19', '#Covid_19', '#CORONAVIRUS', '#Coronavirus', '#CoronavirusCOVID', '#Corona', '#Coronovirus',\n",
    "               '#CoronavirusOubreak', '#CoronavirusPandemic', '#CoronavirusOutbreak', '#CoronavirusPandemic', '#coronavirus', \n",
    "                '#Covid19', '#covid', '#Covid', '#covid19', '#pandemic', '#corona']\n",
    "\n",
    "for k in tagsToRemove:\n",
    "    tempDict.pop(k, None)\n",
    "\n",
    "print('Example output from the hashtag #FollowTheScience:')\n",
    "tempDict['#FollowTheScience']"
   ]
  },
  {
   "cell_type": "code",
   "execution_count": 39,
   "metadata": {},
   "outputs": [
    {
     "name": "stdout",
     "output_type": "stream",
     "text": [
      "business:  15\n",
      "stay home:  13\n",
      "both:  5\n"
     ]
    }
   ],
   "source": [
    "len(tempDict['#VoteBlueToSaveAmerica2020'])\n",
    "#sorted(tempDict['#BlackLivesMatter'])\n",
    "\n",
    "#list(set(tempDict['#VoteBlueToSaveAmerica2020']) & set(tempDict['#BlackLivesMatter']))\n",
    "\n",
    "\n",
    "print('business: ' , len(tempDict['#business']))\n",
    "print('stay home: ' , len(tempDict['#stayhome']))\n",
    "print('both: ', len(set(tempDict['#business']) & set(tempDict['#stayhome'])))"
   ]
  },
  {
   "cell_type": "markdown",
   "metadata": {},
   "source": [
    "#### Top Hashtags \n",
    "Let's take a look at the hashtags used in the highest number of cities. #WearAMask and #COVIDIOTS in particular stand out. "
   ]
  },
  {
   "cell_type": "code",
   "execution_count": 28,
   "metadata": {},
   "outputs": [
    {
     "data": {
      "text/html": [
       "<div>\n",
       "<style scoped>\n",
       "    .dataframe tbody tr th:only-of-type {\n",
       "        vertical-align: middle;\n",
       "    }\n",
       "\n",
       "    .dataframe tbody tr th {\n",
       "        vertical-align: top;\n",
       "    }\n",
       "\n",
       "    .dataframe thead th {\n",
       "        text-align: right;\n",
       "    }\n",
       "</style>\n",
       "<table border=\"1\" class=\"dataframe\">\n",
       "  <thead>\n",
       "    <tr style=\"text-align: right;\">\n",
       "      <th></th>\n",
       "      <th>Hashtag</th>\n",
       "      <th>Cities</th>\n",
       "    </tr>\n",
       "  </thead>\n",
       "  <tbody>\n",
       "    <tr>\n",
       "      <th>81</th>\n",
       "      <td>#WearAMask</td>\n",
       "      <td>41</td>\n",
       "    </tr>\n",
       "    <tr>\n",
       "      <th>135</th>\n",
       "      <td>#COVIDIOTS</td>\n",
       "      <td>32</td>\n",
       "    </tr>\n",
       "    <tr>\n",
       "      <th>948</th>\n",
       "      <td>#TMobileTuesdays</td>\n",
       "      <td>28</td>\n",
       "    </tr>\n",
       "    <tr>\n",
       "      <th>2</th>\n",
       "      <td>#SmartNews</td>\n",
       "      <td>27</td>\n",
       "    </tr>\n",
       "    <tr>\n",
       "      <th>334</th>\n",
       "      <td>#contest</td>\n",
       "      <td>27</td>\n",
       "    </tr>\n",
       "    <tr>\n",
       "      <th>385</th>\n",
       "      <td>#TrumpVirus</td>\n",
       "      <td>27</td>\n",
       "    </tr>\n",
       "    <tr>\n",
       "      <th>2655</th>\n",
       "      <td>#SocialDistancing</td>\n",
       "      <td>26</td>\n",
       "    </tr>\n",
       "    <tr>\n",
       "      <th>407</th>\n",
       "      <td>#BlackLivesMatter</td>\n",
       "      <td>26</td>\n",
       "    </tr>\n",
       "    <tr>\n",
       "      <th>75</th>\n",
       "      <td>#MaskUp</td>\n",
       "      <td>25</td>\n",
       "    </tr>\n",
       "    <tr>\n",
       "      <th>359</th>\n",
       "      <td>#WearADamnMask</td>\n",
       "      <td>25</td>\n",
       "    </tr>\n",
       "    <tr>\n",
       "      <th>984</th>\n",
       "      <td>#Florida</td>\n",
       "      <td>24</td>\n",
       "    </tr>\n",
       "    <tr>\n",
       "      <th>7</th>\n",
       "      <td>#COVIDIDIOTS</td>\n",
       "      <td>23</td>\n",
       "    </tr>\n",
       "    <tr>\n",
       "      <th>472</th>\n",
       "      <td>#healthcare</td>\n",
       "      <td>23</td>\n",
       "    </tr>\n",
       "    <tr>\n",
       "      <th>1063</th>\n",
       "      <td>#staysafe</td>\n",
       "      <td>21</td>\n",
       "    </tr>\n",
       "    <tr>\n",
       "      <th>654</th>\n",
       "      <td>#facemask</td>\n",
       "      <td>20</td>\n",
       "    </tr>\n",
       "    <tr>\n",
       "      <th>1347</th>\n",
       "      <td>#Trump</td>\n",
       "      <td>19</td>\n",
       "    </tr>\n",
       "    <tr>\n",
       "      <th>582</th>\n",
       "      <td>#BREAKING</td>\n",
       "      <td>19</td>\n",
       "    </tr>\n",
       "    <tr>\n",
       "      <th>391</th>\n",
       "      <td>#love</td>\n",
       "      <td>19</td>\n",
       "    </tr>\n",
       "    <tr>\n",
       "      <th>99</th>\n",
       "      <td>#wearamask</td>\n",
       "      <td>18</td>\n",
       "    </tr>\n",
       "    <tr>\n",
       "      <th>353</th>\n",
       "      <td>#education</td>\n",
       "      <td>17</td>\n",
       "    </tr>\n",
       "    <tr>\n",
       "      <th>1632</th>\n",
       "      <td>#TrumpLiesAmericansDie</td>\n",
       "      <td>17</td>\n",
       "    </tr>\n",
       "    <tr>\n",
       "      <th>446</th>\n",
       "      <td>#SchoolReopening</td>\n",
       "      <td>17</td>\n",
       "    </tr>\n",
       "    <tr>\n",
       "      <th>1369</th>\n",
       "      <td>#DrFauci</td>\n",
       "      <td>17</td>\n",
       "    </tr>\n",
       "    <tr>\n",
       "      <th>356</th>\n",
       "      <td>#ProtectPassengers</td>\n",
       "      <td>17</td>\n",
       "    </tr>\n",
       "    <tr>\n",
       "      <th>1055</th>\n",
       "      <td>#testing</td>\n",
       "      <td>16</td>\n",
       "    </tr>\n",
       "    <tr>\n",
       "      <th>1333</th>\n",
       "      <td>#lockdown</td>\n",
       "      <td>16</td>\n",
       "    </tr>\n",
       "    <tr>\n",
       "      <th>174</th>\n",
       "      <td>#CoronaVirusUpdates</td>\n",
       "      <td>16</td>\n",
       "    </tr>\n",
       "    <tr>\n",
       "      <th>911</th>\n",
       "      <td>#MedTwitter</td>\n",
       "      <td>16</td>\n",
       "    </tr>\n",
       "    <tr>\n",
       "      <th>718</th>\n",
       "      <td>#Fauci</td>\n",
       "      <td>16</td>\n",
       "    </tr>\n",
       "    <tr>\n",
       "      <th>150</th>\n",
       "      <td>#vaccine</td>\n",
       "      <td>16</td>\n",
       "    </tr>\n",
       "    <tr>\n",
       "      <th>113</th>\n",
       "      <td>#TrumpIsANationalDisgrace</td>\n",
       "      <td>16</td>\n",
       "    </tr>\n",
       "    <tr>\n",
       "      <th>417</th>\n",
       "      <td>#StayHome</td>\n",
       "      <td>15</td>\n",
       "    </tr>\n",
       "    <tr>\n",
       "      <th>103</th>\n",
       "      <td>#StaySafe</td>\n",
       "      <td>15</td>\n",
       "    </tr>\n",
       "    <tr>\n",
       "      <th>871</th>\n",
       "      <td>#NBA</td>\n",
       "      <td>15</td>\n",
       "    </tr>\n",
       "    <tr>\n",
       "      <th>58</th>\n",
       "      <td>#BLM</td>\n",
       "      <td>15</td>\n",
       "    </tr>\n",
       "    <tr>\n",
       "      <th>1093</th>\n",
       "      <td>#IStandWithFauci</td>\n",
       "      <td>15</td>\n",
       "    </tr>\n",
       "    <tr>\n",
       "      <th>173</th>\n",
       "      <td>#Masks</td>\n",
       "      <td>15</td>\n",
       "    </tr>\n",
       "    <tr>\n",
       "      <th>520</th>\n",
       "      <td>#mask</td>\n",
       "      <td>15</td>\n",
       "    </tr>\n",
       "    <tr>\n",
       "      <th>188</th>\n",
       "      <td>#business</td>\n",
       "      <td>15</td>\n",
       "    </tr>\n",
       "    <tr>\n",
       "      <th>1081</th>\n",
       "      <td>#MAGA</td>\n",
       "      <td>14</td>\n",
       "    </tr>\n",
       "    <tr>\n",
       "      <th>1137</th>\n",
       "      <td>#socialdistancing</td>\n",
       "      <td>14</td>\n",
       "    </tr>\n",
       "    <tr>\n",
       "      <th>376</th>\n",
       "      <td>#s</td>\n",
       "      <td>14</td>\n",
       "    </tr>\n",
       "    <tr>\n",
       "      <th>598</th>\n",
       "      <td>#VoteBlueToSaveAmerica2020</td>\n",
       "      <td>14</td>\n",
       "    </tr>\n",
       "    <tr>\n",
       "      <th>115</th>\n",
       "      <td>#tuesdayvibes</td>\n",
       "      <td>14</td>\n",
       "    </tr>\n",
       "    <tr>\n",
       "      <th>724</th>\n",
       "      <td>#NFL</td>\n",
       "      <td>14</td>\n",
       "    </tr>\n",
       "    <tr>\n",
       "      <th>875</th>\n",
       "      <td>#facemasks</td>\n",
       "      <td>14</td>\n",
       "    </tr>\n",
       "    <tr>\n",
       "      <th>415</th>\n",
       "      <td>#masks</td>\n",
       "      <td>14</td>\n",
       "    </tr>\n",
       "    <tr>\n",
       "      <th>35</th>\n",
       "      <td>#USA</td>\n",
       "      <td>13</td>\n",
       "    </tr>\n",
       "    <tr>\n",
       "      <th>1016</th>\n",
       "      <td>#stayhome</td>\n",
       "      <td>13</td>\n",
       "    </tr>\n",
       "    <tr>\n",
       "      <th>868</th>\n",
       "      <td>#AmeripriseResearch</td>\n",
       "      <td>13</td>\n",
       "    </tr>\n",
       "    <tr>\n",
       "      <th>576</th>\n",
       "      <td>#coronavaccine</td>\n",
       "      <td>13</td>\n",
       "    </tr>\n",
       "    <tr>\n",
       "      <th>629</th>\n",
       "      <td>#health</td>\n",
       "      <td>12</td>\n",
       "    </tr>\n",
       "    <tr>\n",
       "      <th>643</th>\n",
       "      <td>#GOP</td>\n",
       "      <td>12</td>\n",
       "    </tr>\n",
       "    <tr>\n",
       "      <th>379</th>\n",
       "      <td>#NewYork</td>\n",
       "      <td>12</td>\n",
       "    </tr>\n",
       "    <tr>\n",
       "      <th>2361</th>\n",
       "      <td>#TrumpGolfsAmericansDie</td>\n",
       "      <td>12</td>\n",
       "    </tr>\n",
       "    <tr>\n",
       "      <th>1681</th>\n",
       "      <td>#Trump2020</td>\n",
       "      <td>12</td>\n",
       "    </tr>\n",
       "    <tr>\n",
       "      <th>1012</th>\n",
       "      <td>#mentalhealth</td>\n",
       "      <td>12</td>\n",
       "    </tr>\n",
       "    <tr>\n",
       "      <th>23</th>\n",
       "      <td>#marketing</td>\n",
       "      <td>12</td>\n",
       "    </tr>\n",
       "    <tr>\n",
       "      <th>1462</th>\n",
       "      <td>#Quarantine</td>\n",
       "      <td>12</td>\n",
       "    </tr>\n",
       "    <tr>\n",
       "      <th>521</th>\n",
       "      <td>#quarantine</td>\n",
       "      <td>11</td>\n",
       "    </tr>\n",
       "  </tbody>\n",
       "</table>\n",
       "</div>"
      ],
      "text/plain": [
       "                         Hashtag  Cities\n",
       "81                    #WearAMask      41\n",
       "135                   #COVIDIOTS      32\n",
       "948             #TMobileTuesdays      28\n",
       "2                     #SmartNews      27\n",
       "334                     #contest      27\n",
       "385                  #TrumpVirus      27\n",
       "2655           #SocialDistancing      26\n",
       "407            #BlackLivesMatter      26\n",
       "75                       #MaskUp      25\n",
       "359               #WearADamnMask      25\n",
       "984                     #Florida      24\n",
       "7                   #COVIDIDIOTS      23\n",
       "472                  #healthcare      23\n",
       "1063                   #staysafe      21\n",
       "654                    #facemask      20\n",
       "1347                      #Trump      19\n",
       "582                    #BREAKING      19\n",
       "391                        #love      19\n",
       "99                    #wearamask      18\n",
       "353                   #education      17\n",
       "1632      #TrumpLiesAmericansDie      17\n",
       "446             #SchoolReopening      17\n",
       "1369                    #DrFauci      17\n",
       "356           #ProtectPassengers      17\n",
       "1055                    #testing      16\n",
       "1333                   #lockdown      16\n",
       "174          #CoronaVirusUpdates      16\n",
       "911                  #MedTwitter      16\n",
       "718                       #Fauci      16\n",
       "150                     #vaccine      16\n",
       "113    #TrumpIsANationalDisgrace      16\n",
       "417                    #StayHome      15\n",
       "103                    #StaySafe      15\n",
       "871                         #NBA      15\n",
       "58                          #BLM      15\n",
       "1093            #IStandWithFauci      15\n",
       "173                       #Masks      15\n",
       "520                        #mask      15\n",
       "188                    #business      15\n",
       "1081                       #MAGA      14\n",
       "1137           #socialdistancing      14\n",
       "376                           #s      14\n",
       "598   #VoteBlueToSaveAmerica2020      14\n",
       "115                #tuesdayvibes      14\n",
       "724                         #NFL      14\n",
       "875                   #facemasks      14\n",
       "415                       #masks      14\n",
       "35                          #USA      13\n",
       "1016                   #stayhome      13\n",
       "868          #AmeripriseResearch      13\n",
       "576               #coronavaccine      13\n",
       "629                      #health      12\n",
       "643                         #GOP      12\n",
       "379                     #NewYork      12\n",
       "2361     #TrumpGolfsAmericansDie      12\n",
       "1681                  #Trump2020      12\n",
       "1012               #mentalhealth      12\n",
       "23                    #marketing      12\n",
       "1462                 #Quarantine      12\n",
       "521                  #quarantine      11"
      ]
     },
     "execution_count": 28,
     "metadata": {},
     "output_type": "execute_result"
    }
   ],
   "source": [
    "# top hashtags\n",
    "hsh = []\n",
    "ties = []\n",
    "for key, value in tempDict.items():\n",
    "    hsh.append(key)\n",
    "    ties.append(len(value))\n",
    "Hash_Ties = pd.DataFrame()\n",
    "Hash_Ties['Hashtag'] = hsh\n",
    "Hash_Ties['Cities'] = ties\n",
    "Hash_Ties = Hash_Ties.sort_values(by=['Cities'],ascending = False)\n",
    "Hash_Ties.head(10)"
   ]
  },
  {
   "cell_type": "code",
   "execution_count": 18,
   "metadata": {},
   "outputs": [
    {
     "name": "stdout",
     "output_type": "stream",
     "text": [
      "Example Edge: ('38.9071923,-77.0368707', '41.6005448,-93.6091064')\n"
     ]
    }
   ],
   "source": [
    "#### Final Edges\n",
    "# combining all elements in the dictionary values into separate node connections\n",
    "coordPairs = list(tempDict.values())\n",
    "finalPairs = createEdges(coordPairs)\n",
    "\n",
    "print('Example Edge:', finalPairs[1])"
   ]
  },
  {
   "cell_type": "code",
   "execution_count": 14,
   "metadata": {},
   "outputs": [
    {
     "data": {
      "text/plain": [
       "['43.661471,-70.2553259',\n",
       " '40.7127837,-74.0059413',\n",
       " '41.6005448,-93.6091064',\n",
       " '30.3321838,-81.655651',\n",
       " '41.8781136,-87.6297982',\n",
       " '39.7390721,-75.5397878',\n",
       " '35.0853336,-106.6055534',\n",
       " '33.7489954,-84.3879824',\n",
       " '42.331427,-83.0457538',\n",
       " '40.735657,-74.1723667',\n",
       " '42.3600825,-71.0588801',\n",
       " '34.0007104,-81.0348144',\n",
       " '38.9071923,-77.0368707',\n",
       " '36.8529263,-75.977985',\n",
       " '61.2180556,-149.9002778',\n",
       " '35.2270869,-80.8431267']"
      ]
     },
     "execution_count": 14,
     "metadata": {},
     "output_type": "execute_result"
    }
   ],
   "source": [
    "# split into 2 subnetworks\n",
    "magaTweets = tempDict['#MAGA']\n",
    "tindTweets = tempDict['#TrumpIsANationalDisgrace']"
   ]
  },
  {
   "cell_type": "markdown",
   "metadata": {},
   "source": [
    "#### Visualize Network"
   ]
  },
  {
   "cell_type": "markdown",
   "metadata": {},
   "source": [
    "First, we'll define a function to split the coordinates into their respective latitude and longitude values."
   ]
  },
  {
   "cell_type": "code",
   "execution_count": 16,
   "metadata": {},
   "outputs": [],
   "source": [
    "############### split coordinates\n",
    "def unpack_lat_long(lat_long):\n",
    "    split = lat_long.split(',')\n",
    "    lat = split[0]\n",
    "    long = split[1]\n",
    "    return lat, long"
   ]
  },
  {
   "cell_type": "code",
   "execution_count": null,
   "metadata": {},
   "outputs": [],
   "source": [
    "# separate lists for latitude and longitude\n",
    "temp= tempDict['#WearAMask']\n",
    "WearMask_lat = []\n",
    "WearMask_long = []\n",
    "for city in temp:\n",
    "    lat, long = unpack_lat_long(city)\n",
    "    WearMask_lat.append(round(float(lat),2))\n",
    "    WearMask_long.append(round(float(long),2))\n",
    "WearMask_long[:5]"
   ]
  },
  {
   "cell_type": "code",
   "execution_count": null,
   "metadata": {},
   "outputs": [],
   "source": [
    "fig = plt.figure(num=None, figsize=(12, 8) ) \n",
    "#m = Basemap(width=6000000,height=4500000,resolution='c',projection='aea',lat_1=35.,lat_2=45,lon_0=-100,lat_0=40)\n",
    "m = Basemap(\n",
    "        projection='merc',\n",
    "        llcrnrlon=-130,\n",
    "        llcrnrlat=25,\n",
    "        urcrnrlon=-60,\n",
    "        urcrnrlat=50,\n",
    "        lat_ts=0,\n",
    "        resolution='i',\n",
    "        suppress_ticks=True)\n",
    "\n",
    "mx, my = m(WearMask_long,WearMask_lat)\n",
    "\n",
    "G = nx.Graph()\n",
    "G.add_nodes_from(temp)\n",
    "pos = {}\n",
    "i = 0\n",
    "for city in temp:\n",
    "    \n",
    "    pos[city] = (mx[i],my[i])\n",
    "    i+=1\n",
    "    \n",
    "nx.draw_networkx(G,pos, node_size = 200, node_color = 'red',with_labels = False)\n",
    "m.drawcoastlines(linewidth=0.5)\n",
    "m.fillcontinents(color='tan',lake_color='lightblue')\n",
    "# draw parallels and meridians.\n",
    "m.drawparallels(np.arange(-90.,91.,15.),labels=[True,True,False,False],dashes=[2,2])\n",
    "m.drawmeridians(np.arange(-180.,181.,15.),labels=[False,False,False,True],dashes=[2,2])\n",
    "m.drawmapboundary(fill_color='lightblue')\n",
    "m.drawcountries(linewidth=2, linestyle='solid', color='k' ) \n",
    "m.drawstates(linewidth=0.5, linestyle='solid', color='k')  \n"
   ]
  },
  {
   "cell_type": "markdown",
   "metadata": {},
   "source": [
    "### Edge Weights\n",
    "https://www.geeksforgeeks.org/python-program-to-count-duplicates-in-a-list-of-tuples/"
   ]
  },
  {
   "cell_type": "markdown",
   "metadata": {},
   "source": [
    "**Note from Zach**: Will remove this commented-out code later (see below), but thought I'd leave it just in case it'll be helpful for future visualizations:"
   ]
  },
  {
   "cell_type": "code",
   "execution_count": null,
   "metadata": {},
   "outputs": [],
   "source": [
    "# locator = mdates.MonthLocator()\n",
    "# fmt = mdates.DateFormatter('%B')\n",
    "\n",
    "\n",
    "# plt.plot(nyc_time_series['Date'], nyc_time_series['Confirmed_Cases'], c='indianred')\n",
    "# plt.plot(legend=None)\n",
    "# plt.title('Number of Confirmed COVID-19 Cases in New York City')\n",
    "# plt.xlabel('Date')\n",
    "# plt.ylabel('Number of Confirmed Cases')\n",
    "# plt.gca().xaxis.set_major_formatter(fmt)\n",
    "# plt.show()"
   ]
  }
 ],
 "metadata": {
  "kernelspec": {
   "display_name": "Python 3",
   "language": "python",
   "name": "python3"
  },
  "language_info": {
   "codemirror_mode": {
    "name": "ipython",
    "version": 3
   },
   "file_extension": ".py",
   "mimetype": "text/x-python",
   "name": "python",
   "nbconvert_exporter": "python",
   "pygments_lexer": "ipython3",
   "version": "3.8.2"
  }
 },
 "nbformat": 4,
 "nbformat_minor": 4
}
