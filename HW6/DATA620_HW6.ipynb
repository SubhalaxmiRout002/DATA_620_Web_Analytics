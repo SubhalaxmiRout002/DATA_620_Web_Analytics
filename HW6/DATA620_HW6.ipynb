{
 "cells": [
  {
   "cell_type": "markdown",
   "metadata": {},
   "source": [
    "### CUNY Data 620 - Web Analytics, Summer 2020\n",
    "**Group Homework Assignment 6**  \n",
    "**Prof:** Alain Ledon  \n",
    "**Members:** Misha Kollontai, Amber Ferger, Zach Alexander, Subhalaxmi Rout  \n",
    "\n",
    "**Youtube Link:** "
   ]
  },
  {
   "cell_type": "markdown",
   "metadata": {},
   "source": [
    "### Instructions\n",
    "\n",
    "It can be useful to be able to classify new \"test\" documents using already classified \"training\" documents. A common example is using a corpus of labeled spam and ham (non-spam) e-mails to predict whether or not a new document is spam. Here is one example of such data: http://archive.ics.uci.edu/ml/datasets/Spambase \n",
    "\n",
    "For this project, you can either use the above dataset to predict the class of new documents (either withheld from the training dataset or from another source such as your own spam folder).\n",
    "\n",
    "For more adventurous students, you are welcome (encouraged!) to come up a different set of documents (including scraped web pages!?) that have already been classified (e.g. tagged), then analyze these documents to predict how new documents should be classified."
   ]
  },
  {
   "cell_type": "markdown",
   "metadata": {},
   "source": [
    "### Methodology\n",
    "For this project, we will train 4 classifers: an SVM, K-Nearest Neighbors, Decision Tree, and Random Forest. For each, we will fit the model to a training set and calculate the accuracy, precision, and recall on the test set. \n",
    "\n",
    "* **Accuracy:** The percent of emails properly classified. \n",
    "* **Precision - True Positive Rate**: The percent of emails classfied as spam that are actually spam. A precision of 100% means that all records classified as spam are spam. A low precision means that many of the classified spam emails are actually not spam. \n",
    "* **Recall**: The percent of spam emails that are properly classified. A recall of 100% means that all true spam emails are classified as spam. A low recall means that many of the spam emails are classified as not spam. \n",
    "\n",
    "Although we want to ensure that we are filtering out spam, we also want to do our best to send all actual emails to the inbox. (No one wants to miss an important email due to the spam filter!) Because of this, our final comparison will be based on **recall for class 0**, which measures the number of properly classified non-spam emails. The higher the recall, the more non-spam documents are classified as non-spam.\n",
    "\n",
    "Additionally, for our 2 tree-based models, we will look at the feature importances to see the contributions of each feature in classifying the document. "
   ]
  },
  {
   "cell_type": "markdown",
   "metadata": {},
   "source": [
    "### Import Packages"
   ]
  },
  {
   "cell_type": "code",
   "execution_count": 35,
   "metadata": {},
   "outputs": [],
   "source": [
    "import numpy as np\n",
    "import pandas as pd\n",
    "import re\n",
    "from sklearn import svm, tree\n",
    "from sklearn.ensemble import RandomForestClassifier\n",
    "from sklearn.model_selection import StratifiedKFold\n",
    "from sklearn.model_selection import GridSearchCV\n",
    "from sklearn.metrics import accuracy_score, confusion_matrix, classification_report\n",
    "from sklearn.neighbors import KNeighborsClassifier\n",
    "from sklearn.model_selection import train_test_split\n",
    "import matplotlib.pyplot as plt\n",
    "from sklearn import ensemble"
   ]
  },
  {
   "cell_type": "markdown",
   "metadata": {},
   "source": [
    "### Data Exploration"
   ]
  },
  {
   "cell_type": "markdown",
   "metadata": {},
   "source": [
    "Using the link mentioned above we will download 2 files i.e \"spambase.data\" and \"spambase.names\".<br> The spambase.data file contains various parameters for each file as well as a classificationof ham or spam (i.e 1 = spam, 0 = Not spam). The spambase.names file contains the descriptions of each of the features. We will extract these features from the file and apply them to the dataset to create models. "
   ]
  },
  {
   "cell_type": "code",
   "execution_count": 5,
   "metadata": {},
   "outputs": [
    {
     "name": "stdout",
     "output_type": "stream",
     "text": [
      "A sample of 5 features: \n",
      " ['word_freq_make', 'word_freq_address', 'word_freq_all', 'word_freq_3d', 'word_freq_our']\n"
     ]
    }
   ],
   "source": [
    "# extract feature from spambase.names file.\n",
    "\n",
    "# created an empty feature list\n",
    "categories = []\n",
    "\n",
    "# open file \n",
    "feature_file = open('data/spambase.names')\n",
    "# remove '\\n', split the text,  and match with word_freq|char_freq feature \n",
    "for line in feature_file:\n",
    "    if not re.match(r'\\|', line):\n",
    "        line = line.rstrip()\n",
    "        if re.search(r'(word_freq_|char_freq_|capital_run_length_).+', line):   \n",
    "            words = line.split()\n",
    "            first_word = words[0]\n",
    "            categories.append(first_word[:-1])\n",
    "#The list of features in the names file doesn't include the column definind spam/ham, so let's add one. \n",
    "\n",
    "categories.append('spam')\n",
    "print('A sample of 5 features: \\n',categories[:5])"
   ]
  },
  {
   "cell_type": "markdown",
   "metadata": {},
   "source": [
    "Let's now load the data from the data file and apply our 'categories' list as the column header. "
   ]
  },
  {
   "cell_type": "code",
   "execution_count": 6,
   "metadata": {},
   "outputs": [],
   "source": [
    "data=pd.read_csv('data/spambase.data', header=None)\n",
    "data.columns = categories"
   ]
  },
  {
   "cell_type": "markdown",
   "metadata": {},
   "source": [
    "#### Spam, Non-Spam Breakouts\n",
    "\n",
    "Let's take a look at our dataset ot see how much spam and how much ham we have. "
   ]
  },
  {
   "cell_type": "code",
   "execution_count": 7,
   "metadata": {},
   "outputs": [
    {
     "name": "stdout",
     "output_type": "stream",
     "text": [
      "Spam: 1813\n",
      "Non-spam: 2788\n"
     ]
    }
   ],
   "source": [
    "# Count spam and non-spam\n",
    "count_spam = len(data[data.spam == 1])\n",
    "count_nonspam = len(data[data.spam == 0])\n",
    "\n",
    "print(\"Spam: %d\" %count_spam)\n",
    "print(\"Non-spam: %d\" %count_nonspam)"
   ]
  },
  {
   "cell_type": "code",
   "execution_count": 5,
   "metadata": {},
   "outputs": [
    {
     "data": {
      "text/html": [
       "<div>\n",
       "<style scoped>\n",
       "    .dataframe tbody tr th:only-of-type {\n",
       "        vertical-align: middle;\n",
       "    }\n",
       "\n",
       "    .dataframe tbody tr th {\n",
       "        vertical-align: top;\n",
       "    }\n",
       "\n",
       "    .dataframe thead th {\n",
       "        text-align: right;\n",
       "    }\n",
       "</style>\n",
       "<table border=\"1\" class=\"dataframe\">\n",
       "  <thead>\n",
       "    <tr style=\"text-align: right;\">\n",
       "      <th></th>\n",
       "      <th>word_freq_make</th>\n",
       "      <th>word_freq_address</th>\n",
       "      <th>word_freq_all</th>\n",
       "      <th>word_freq_3d</th>\n",
       "      <th>word_freq_our</th>\n",
       "      <th>word_freq_over</th>\n",
       "      <th>word_freq_remove</th>\n",
       "      <th>word_freq_internet</th>\n",
       "      <th>word_freq_order</th>\n",
       "      <th>word_freq_mail</th>\n",
       "      <th>...</th>\n",
       "      <th>char_freq_;</th>\n",
       "      <th>char_freq_(</th>\n",
       "      <th>char_freq_[</th>\n",
       "      <th>char_freq_!</th>\n",
       "      <th>char_freq_$</th>\n",
       "      <th>char_freq_#</th>\n",
       "      <th>capital_run_length_average</th>\n",
       "      <th>capital_run_length_longest</th>\n",
       "      <th>capital_run_length_total</th>\n",
       "      <th>spam</th>\n",
       "    </tr>\n",
       "  </thead>\n",
       "  <tbody>\n",
       "    <tr>\n",
       "      <td>0</td>\n",
       "      <td>0.00</td>\n",
       "      <td>0.64</td>\n",
       "      <td>0.64</td>\n",
       "      <td>0.0</td>\n",
       "      <td>0.32</td>\n",
       "      <td>0.00</td>\n",
       "      <td>0.00</td>\n",
       "      <td>0.00</td>\n",
       "      <td>0.00</td>\n",
       "      <td>0.00</td>\n",
       "      <td>...</td>\n",
       "      <td>0.00</td>\n",
       "      <td>0.000</td>\n",
       "      <td>0.0</td>\n",
       "      <td>0.778</td>\n",
       "      <td>0.000</td>\n",
       "      <td>0.000</td>\n",
       "      <td>3.756</td>\n",
       "      <td>61</td>\n",
       "      <td>278</td>\n",
       "      <td>1</td>\n",
       "    </tr>\n",
       "    <tr>\n",
       "      <td>1</td>\n",
       "      <td>0.21</td>\n",
       "      <td>0.28</td>\n",
       "      <td>0.50</td>\n",
       "      <td>0.0</td>\n",
       "      <td>0.14</td>\n",
       "      <td>0.28</td>\n",
       "      <td>0.21</td>\n",
       "      <td>0.07</td>\n",
       "      <td>0.00</td>\n",
       "      <td>0.94</td>\n",
       "      <td>...</td>\n",
       "      <td>0.00</td>\n",
       "      <td>0.132</td>\n",
       "      <td>0.0</td>\n",
       "      <td>0.372</td>\n",
       "      <td>0.180</td>\n",
       "      <td>0.048</td>\n",
       "      <td>5.114</td>\n",
       "      <td>101</td>\n",
       "      <td>1028</td>\n",
       "      <td>1</td>\n",
       "    </tr>\n",
       "    <tr>\n",
       "      <td>2</td>\n",
       "      <td>0.06</td>\n",
       "      <td>0.00</td>\n",
       "      <td>0.71</td>\n",
       "      <td>0.0</td>\n",
       "      <td>1.23</td>\n",
       "      <td>0.19</td>\n",
       "      <td>0.19</td>\n",
       "      <td>0.12</td>\n",
       "      <td>0.64</td>\n",
       "      <td>0.25</td>\n",
       "      <td>...</td>\n",
       "      <td>0.01</td>\n",
       "      <td>0.143</td>\n",
       "      <td>0.0</td>\n",
       "      <td>0.276</td>\n",
       "      <td>0.184</td>\n",
       "      <td>0.010</td>\n",
       "      <td>9.821</td>\n",
       "      <td>485</td>\n",
       "      <td>2259</td>\n",
       "      <td>1</td>\n",
       "    </tr>\n",
       "    <tr>\n",
       "      <td>3</td>\n",
       "      <td>0.00</td>\n",
       "      <td>0.00</td>\n",
       "      <td>0.00</td>\n",
       "      <td>0.0</td>\n",
       "      <td>0.63</td>\n",
       "      <td>0.00</td>\n",
       "      <td>0.31</td>\n",
       "      <td>0.63</td>\n",
       "      <td>0.31</td>\n",
       "      <td>0.63</td>\n",
       "      <td>...</td>\n",
       "      <td>0.00</td>\n",
       "      <td>0.137</td>\n",
       "      <td>0.0</td>\n",
       "      <td>0.137</td>\n",
       "      <td>0.000</td>\n",
       "      <td>0.000</td>\n",
       "      <td>3.537</td>\n",
       "      <td>40</td>\n",
       "      <td>191</td>\n",
       "      <td>1</td>\n",
       "    </tr>\n",
       "  </tbody>\n",
       "</table>\n",
       "<p>4 rows × 58 columns</p>\n",
       "</div>"
      ],
      "text/plain": [
       "   word_freq_make  word_freq_address  word_freq_all  word_freq_3d  \\\n",
       "0            0.00               0.64           0.64           0.0   \n",
       "1            0.21               0.28           0.50           0.0   \n",
       "2            0.06               0.00           0.71           0.0   \n",
       "3            0.00               0.00           0.00           0.0   \n",
       "\n",
       "   word_freq_our  word_freq_over  word_freq_remove  word_freq_internet  \\\n",
       "0           0.32            0.00              0.00                0.00   \n",
       "1           0.14            0.28              0.21                0.07   \n",
       "2           1.23            0.19              0.19                0.12   \n",
       "3           0.63            0.00              0.31                0.63   \n",
       "\n",
       "   word_freq_order  word_freq_mail  ...  char_freq_;  char_freq_(  \\\n",
       "0             0.00            0.00  ...         0.00        0.000   \n",
       "1             0.00            0.94  ...         0.00        0.132   \n",
       "2             0.64            0.25  ...         0.01        0.143   \n",
       "3             0.31            0.63  ...         0.00        0.137   \n",
       "\n",
       "   char_freq_[  char_freq_!  char_freq_$  char_freq_#  \\\n",
       "0          0.0        0.778        0.000        0.000   \n",
       "1          0.0        0.372        0.180        0.048   \n",
       "2          0.0        0.276        0.184        0.010   \n",
       "3          0.0        0.137        0.000        0.000   \n",
       "\n",
       "   capital_run_length_average  capital_run_length_longest  \\\n",
       "0                       3.756                          61   \n",
       "1                       5.114                         101   \n",
       "2                       9.821                         485   \n",
       "3                       3.537                          40   \n",
       "\n",
       "   capital_run_length_total  spam  \n",
       "0                       278     1  \n",
       "1                      1028     1  \n",
       "2                      2259     1  \n",
       "3                       191     1  \n",
       "\n",
       "[4 rows x 58 columns]"
      ]
     },
     "execution_count": 5,
     "metadata": {},
     "output_type": "execute_result"
    }
   ],
   "source": [
    "data.head(4)"
   ]
  },
  {
   "cell_type": "markdown",
   "metadata": {},
   "source": [
    "Lets see what percentage of our data is spam/Not spam. "
   ]
  },
  {
   "cell_type": "code",
   "execution_count": 8,
   "metadata": {},
   "outputs": [
    {
     "data": {
      "image/png": "[encoded data removed]",
      "text/plain": [
       "<Figure size 432x432 with 1 Axes>"
      ]
     },
     "metadata": {},
     "output_type": "display_data"
    }
   ],
   "source": [
    "# pie plot of spam/not spam \n",
    "\n",
    "labels = ['Not Spam','Spam']\n",
    "data['spam'].value_counts().plot(kind = 'pie', explode = [0, 0.1], figsize = (6, 6), autopct = '%1.1f%%', labels=labels)\n",
    "plt.ylabel(\"Spam vs Not Spam\")\n",
    "plt.legend([\"Not Spam\", \"Spam\"])\n",
    "plt.show()"
   ]
  },
  {
   "cell_type": "markdown",
   "metadata": {},
   "source": [
    "#### Data splitting:\n",
    "\n",
    "This table consists of 58 columns, we will devide the dataset into 2 parts i.e the train and the test set. Train data is 75% of data and test data is 25% of data. We will create two variables: the output will be the 'spam' column, the input will be everything else. We also want to ensure that we stratify the model so that we have a representative breakdown of Spam and Ham.\n",
    "\n",
    "* Parameter test_size is given value 0.25. It means test set will be 25% of the whole dataset and training set will be 75%. \n",
    "* Parameter random_state is a pseudo-random number generator state used for random sampling."
   ]
  },
  {
   "cell_type": "code",
   "execution_count": 9,
   "metadata": {},
   "outputs": [],
   "source": [
    "X = data.values[:, 0:57]\n",
    "Y = data.values[:, 57]\n",
    "X_train, X_test, Y_train, Y_test = train_test_split(X, Y, test_size = 0.25, random_state = 4, stratify=Y)"
   ]
  },
  {
   "cell_type": "markdown",
   "metadata": {},
   "source": [
    "#### Metric Calculations\n",
    "We will define a function that returns a confusion matrix and classification report for our test sets."
   ]
  },
  {
   "cell_type": "code",
   "execution_count": 89,
   "metadata": {},
   "outputs": [],
   "source": [
    "# Determine Performance Metrics\n",
    "def perf_metrics(y_test, prediction):\n",
    "    cm = confusion_matrix(y_test, prediction)\n",
    "    cr = classification_report(y_test,prediction, output_dict=True)\n",
    "    print(cm)\n",
    "    print(classification_report(y_test,prediction))\n",
    "    return cm, cr"
   ]
  },
  {
   "cell_type": "markdown",
   "metadata": {},
   "source": [
    "### Model 1: Support Vector Machine\n",
    "\n",
    "We will fit our training data to a Support Vector Machine model, predict on the test set, and evalate the performance of the model in terms of (1) accuracy, (2) precision, and (3) recall. "
   ]
  },
  {
   "cell_type": "code",
   "execution_count": 64,
   "metadata": {},
   "outputs": [
    {
     "name": "stdout",
     "output_type": "stream",
     "text": [
      "The accuracy of the test set with an SVM model is:  0.7115551694178974\n"
     ]
    }
   ],
   "source": [
    "svm_model = svm.SVC()\n",
    "svm_model.fit(X_train, Y_train)\n",
    "\n",
    "# Prediction\n",
    "svm_pred = svm_model.predict(X_test)\n",
    "\n",
    "# find accuracy on the Test Set\n",
    "print('The accuracy of the test set with an SVM model is: ', accuracy_score(Y_test, svm_pred))"
   ]
  },
  {
   "cell_type": "code",
   "execution_count": 91,
   "metadata": {},
   "outputs": [
    {
     "name": "stdout",
     "output_type": "stream",
     "text": [
      "[[618  79]\n",
      " [253 201]]\n",
      "              precision    recall  f1-score   support\n",
      "\n",
      "         0.0       0.71      0.89      0.79       697\n",
      "         1.0       0.72      0.44      0.55       454\n",
      "\n",
      "    accuracy                           0.71      1151\n",
      "   macro avg       0.71      0.66      0.67      1151\n",
      "weighted avg       0.71      0.71      0.69      1151\n",
      "\n"
     ]
    }
   ],
   "source": [
    "cmSvm, crSvm = perf_metrics(Y_test,svm_pred)"
   ]
  },
  {
   "cell_type": "markdown",
   "metadata": {},
   "source": [
    "* **Accuracy**: Overall, about 71% of the documents were classified properly. \n",
    "* **Precision**: The model performs similarly on non-spam (label = 0) and spam (label = 1) emails.\n",
    "* **Recall**: The model is better at recognizing non-spam than it is at recognizing spam. 89% of non-spam records are properly identified, whereas only 44% of spam records are identified properly. This also means that around 11% of non-spam emails are being predicted as spam!"
   ]
  },
  {
   "cell_type": "markdown",
   "metadata": {},
   "source": [
    "### Model 2: K Nearest Neighbors\n",
    "\n",
    "When putting together a K-Nearest Neighbors model we wanted to ensure we were selecting the optimal number of neighbors for our dataset. To do so, we looped through a range of values and identified the number of neighbors that corresponded to the highest accuracy. "
   ]
  },
  {
   "cell_type": "code",
   "execution_count": 13,
   "metadata": {},
   "outputs": [
    {
     "data": {
      "text/html": [
       "<style  type=\"text/css\" >\n",
       "</style><table id=\"T_0a136e74_c1e6_11ea_b17a_0050569d1921\" ><thead>    <tr>        <th class=\"col_heading level0 col0\" >n_neighbors</th>        <th class=\"col_heading level0 col1\" >Accuracy</th>    </tr></thead><tbody>\n",
       "                <tr>\n",
       "                                <td id=\"T_0a136e74_c1e6_11ea_b17a_0050569d1921row0_col0\" class=\"data row0 col0\" >1</td>\n",
       "                        <td id=\"T_0a136e74_c1e6_11ea_b17a_0050569d1921row0_col1\" class=\"data row0 col1\" >0.806255</td>\n",
       "            </tr>\n",
       "            <tr>\n",
       "                                <td id=\"T_0a136e74_c1e6_11ea_b17a_0050569d1921row1_col0\" class=\"data row1 col0\" >2</td>\n",
       "                        <td id=\"T_0a136e74_c1e6_11ea_b17a_0050569d1921row1_col1\" class=\"data row1 col1\" >0.786273</td>\n",
       "            </tr>\n",
       "            <tr>\n",
       "                                <td id=\"T_0a136e74_c1e6_11ea_b17a_0050569d1921row2_col0\" class=\"data row2 col0\" >3</td>\n",
       "                        <td id=\"T_0a136e74_c1e6_11ea_b17a_0050569d1921row2_col1\" class=\"data row2 col1\" >0.807993</td>\n",
       "            </tr>\n",
       "            <tr>\n",
       "                                <td id=\"T_0a136e74_c1e6_11ea_b17a_0050569d1921row3_col0\" class=\"data row3 col0\" >4</td>\n",
       "                        <td id=\"T_0a136e74_c1e6_11ea_b17a_0050569d1921row3_col1\" class=\"data row3 col1\" >0.790617</td>\n",
       "            </tr>\n",
       "            <tr>\n",
       "                                <td id=\"T_0a136e74_c1e6_11ea_b17a_0050569d1921row4_col0\" class=\"data row4 col0\" >5</td>\n",
       "                        <td id=\"T_0a136e74_c1e6_11ea_b17a_0050569d1921row4_col1\" class=\"data row4 col1\" >0.805387</td>\n",
       "            </tr>\n",
       "    </tbody></table>"
      ],
      "text/plain": [
       "<pandas.io.formats.style.Styler at 0x27893945d88>"
      ]
     },
     "execution_count": 13,
     "metadata": {},
     "output_type": "execute_result"
    }
   ],
   "source": [
    "n_neigh = range(1,21)\n",
    "K_N_acc = []\n",
    "for n in n_neigh:\n",
    "    k_neigh = KNeighborsClassifier(n_neighbors = n)\n",
    "    k_neigh.fit(X_train,Y_train)\n",
    "    k_neigh_pred = k_neigh.predict(X_test)\n",
    "    K_N_acc.append(accuracy_score(Y_test, k_neigh_pred))\n",
    "K_N = {\"n_neighbors\":n_neigh,'Accuracy':K_N_acc}\n",
    "K_N = pd.DataFrame(K_N)\n",
    "K_N.head().style.hide_index()"
   ]
  },
  {
   "cell_type": "markdown",
   "metadata": {},
   "source": [
    "By plotting these results we can find the best number of neightbors to use. From this set of data it seems that the best number to use for our data is 3. It's interesting to note that the results for each value follows the general rule that even numbers of pairs tend to be less accurate for classifications into 2 groups. After 9 nighbors we see a significant dropoff in marginal accuracy. "
   ]
  },
  {
   "cell_type": "code",
   "execution_count": 14,
   "metadata": {},
   "outputs": [
    {
     "data": {
      "image/png": "[encoded data removed]",
      "text/plain": [
       "<Figure size 432x288 with 1 Axes>"
      ]
     },
     "metadata": {
      "needs_background": "light"
     },
     "output_type": "display_data"
    }
   ],
   "source": [
    "plt.plot(n_neigh,K_N['Accuracy'])\n",
    "plt.title('K_N Accuracy based on # neighbors')\n",
    "plt.xlabel('Number of neighbors [n]')\n",
    "plt.ylabel('Accuracy')\n",
    "plt.xticks(n_neigh)\n",
    "plt.show()"
   ]
  },
  {
   "cell_type": "markdown",
   "metadata": {},
   "source": [
    "Now that we have identified the optimal value for n_neighbors, let's see what our model looks like when compared to the test values. "
   ]
  },
  {
   "cell_type": "code",
   "execution_count": 92,
   "metadata": {},
   "outputs": [
    {
     "name": "stdout",
     "output_type": "stream",
     "text": [
      "[[598  99]\n",
      " [122 332]]\n",
      "              precision    recall  f1-score   support\n",
      "\n",
      "         0.0       0.83      0.86      0.84       697\n",
      "         1.0       0.77      0.73      0.75       454\n",
      "\n",
      "    accuracy                           0.81      1151\n",
      "   macro avg       0.80      0.79      0.80      1151\n",
      "weighted avg       0.81      0.81      0.81      1151\n",
      "\n"
     ]
    }
   ],
   "source": [
    "K_N_3 = KNeighborsClassifier(n_neighbors = 3)\n",
    "K_N_3.fit(X_train,Y_train)\n",
    "K_N_3_pred = K_N_3.predict(X_test)\n",
    "\n",
    "cmKnn, crKnn = perf_metrics(Y_test,K_N_3_pred)"
   ]
  },
  {
   "cell_type": "markdown",
   "metadata": {},
   "source": [
    "* **Accuracy**: Accuracy has increased from 71% using an SVM to 81% using a KNN classifier. \n",
    "* **Precision**: The precision has increased, which means that more of the emails classified as spam are actually spam. \n",
    "* **Recall**: However, our recall has decreased. About 14% of the non-spam emails are classified as spam. "
   ]
  },
  {
   "cell_type": "markdown",
   "metadata": {},
   "source": [
    "### Model 3: Decision Tree Classifier\n",
    "\n",
    "Our next approach was to use a decision tree classifier model on our dataset. One of the main parameters for a Random Forest model is the maximum depth of the splits. As with the K-Nearest-Neighbors model we will loop through various values to determine the best one. "
   ]
  },
  {
   "cell_type": "code",
   "execution_count": 16,
   "metadata": {},
   "outputs": [
    {
     "data": {
      "text/html": [
       "<style  type=\"text/css\" >\n",
       "</style><table id=\"T_3d5a0d42_c1e6_11ea_a6fa_0050569d1921\" ><thead>    <tr>        <th class=\"col_heading level0 col0\" >Max Depth</th>        <th class=\"col_heading level0 col1\" >Accuracy</th>    </tr></thead><tbody>\n",
       "                <tr>\n",
       "                                <td id=\"T_3d5a0d42_c1e6_11ea_a6fa_0050569d1921row0_col0\" class=\"data row0 col0\" >1</td>\n",
       "                        <td id=\"T_3d5a0d42_c1e6_11ea_a6fa_0050569d1921row0_col1\" class=\"data row0 col1\" >0.779322</td>\n",
       "            </tr>\n",
       "            <tr>\n",
       "                                <td id=\"T_3d5a0d42_c1e6_11ea_a6fa_0050569d1921row1_col0\" class=\"data row1 col0\" >2</td>\n",
       "                        <td id=\"T_3d5a0d42_c1e6_11ea_a6fa_0050569d1921row1_col1\" class=\"data row1 col1\" >0.834057</td>\n",
       "            </tr>\n",
       "            <tr>\n",
       "                                <td id=\"T_3d5a0d42_c1e6_11ea_a6fa_0050569d1921row2_col0\" class=\"data row2 col0\" >3</td>\n",
       "                        <td id=\"T_3d5a0d42_c1e6_11ea_a6fa_0050569d1921row2_col1\" class=\"data row2 col1\" >0.880973</td>\n",
       "            </tr>\n",
       "            <tr>\n",
       "                                <td id=\"T_3d5a0d42_c1e6_11ea_a6fa_0050569d1921row3_col0\" class=\"data row3 col0\" >4</td>\n",
       "                        <td id=\"T_3d5a0d42_c1e6_11ea_a6fa_0050569d1921row3_col1\" class=\"data row3 col1\" >0.889661</td>\n",
       "            </tr>\n",
       "            <tr>\n",
       "                                <td id=\"T_3d5a0d42_c1e6_11ea_a6fa_0050569d1921row4_col0\" class=\"data row4 col0\" >5</td>\n",
       "                        <td id=\"T_3d5a0d42_c1e6_11ea_a6fa_0050569d1921row4_col1\" class=\"data row4 col1\" >0.895743</td>\n",
       "            </tr>\n",
       "    </tbody></table>"
      ],
      "text/plain": [
       "<pandas.io.formats.style.Styler at 0x278943177c8>"
      ]
     },
     "execution_count": 16,
     "metadata": {},
     "output_type": "execute_result"
    }
   ],
   "source": [
    "depth = range(1,21)\n",
    "Tree_acc = []\n",
    "for d in depth:\n",
    "    Tree = tree.DecisionTreeClassifier(max_depth = d)\n",
    "    Tree.fit(X_train,Y_train)\n",
    "    Tree_pred = Tree.predict(X_test)\n",
    "    Tree_acc.append(accuracy_score(Y_test, Tree_pred))\n",
    "    \n",
    "TREE = {\"Max Depth\":depth,'Accuracy':Tree_acc}\n",
    "TREE = pd.DataFrame(TREE)\n",
    "TREE.head().style.hide_index()"
   ]
  },
  {
   "cell_type": "code",
   "execution_count": 17,
   "metadata": {},
   "outputs": [
    {
     "data": {
      "image/png": "[encoded data removed]",
      "text/plain": [
       "<Figure size 432x288 with 1 Axes>"
      ]
     },
     "metadata": {
      "needs_background": "light"
     },
     "output_type": "display_data"
    }
   ],
   "source": [
    "plt.plot(depth,TREE['Accuracy'])\n",
    "plt.title('Decision Tree Accuracy Based on Depth')\n",
    "plt.xlabel('Max Depth')\n",
    "plt.ylabel('Accuracy')\n",
    "plt.xticks(depth)\n",
    "plt.show()"
   ]
  },
  {
   "cell_type": "code",
   "execution_count": 18,
   "metadata": {},
   "outputs": [
    {
     "name": "stdout",
     "output_type": "stream",
     "text": [
      "The best accuracy of 91.92% comes from a max depth of 9\n"
     ]
    }
   ],
   "source": [
    "best_depth_idx = TREE['Accuracy'].idxmax()\n",
    "best_acc = max(TREE['Accuracy'])\n",
    "best_dep = int(TREE.iloc[best_depth_idx]['Max Depth'])\n",
    "print(f\"The best accuracy of {best_acc:.2%} comes from a max depth of {best_dep}\")"
   ]
  },
  {
   "cell_type": "code",
   "execution_count": 93,
   "metadata": {},
   "outputs": [
    {
     "name": "stdout",
     "output_type": "stream",
     "text": [
      "[[661  36]\n",
      " [ 64 390]]\n",
      "              precision    recall  f1-score   support\n",
      "\n",
      "         0.0       0.91      0.95      0.93       697\n",
      "         1.0       0.92      0.86      0.89       454\n",
      "\n",
      "    accuracy                           0.91      1151\n",
      "   macro avg       0.91      0.90      0.91      1151\n",
      "weighted avg       0.91      0.91      0.91      1151\n",
      "\n"
     ]
    }
   ],
   "source": [
    "Best_Tree = tree.DecisionTreeClassifier(max_depth = best_dep)\n",
    "Best_Tree.fit(X_train,Y_train)\n",
    "Best_Tree_pred = Best_Tree.predict(X_test)\n",
    "\n",
    "cmTree, crTree = perf_metrics(Y_test,Best_Tree_pred)"
   ]
  },
  {
   "cell_type": "markdown",
   "metadata": {},
   "source": [
    "Now this looks a lot better! \n",
    "\n",
    "* **Accuracy**: Accuracy has further increased to 91%! \n",
    "* **Precision**: The precision has also increased, which means that more of the emails classified as spam are actually spam. \n",
    "* **Recall**: Our recall has also increased. Now only 5% of non-spam emails are being classified as spam!"
   ]
  },
  {
   "cell_type": "markdown",
   "metadata": {},
   "source": [
    "### Model 4: Random Forest Classifier\n",
    "\n",
    "Our last model will be a **Random Forest Classifier**. We'll do things a little differently:\n",
    "* First, we'll define a parameter grid to search over.\n",
    "* Next, we'll use 5-fold **stratified** cross-validation to ensure that a representative sample of spam and non-spam documents are included in each fold. \n",
    "* Then, we'll search the parameter grid to identify the best values for the max_depth, number of estimators, and criterion. \n",
    "\n",
    "Once we've identified the best model, we can predict on our test set and identify the final metrics. "
   ]
  },
  {
   "cell_type": "code",
   "execution_count": 54,
   "metadata": {},
   "outputs": [],
   "source": [
    "%%capture\n",
    "# Create the parameter grid\n",
    "param_grid = {\n",
    "    'max_depth': list(range(0,25,5)),\n",
    "    'n_estimators': list(range(0,200,50)),\n",
    "    'criterion': ['gini', 'entropy']}\n",
    "\n",
    "# Create a base model\n",
    "rf = RandomForestClassifier()\n",
    "\n",
    "# Instantiate the grid search model\n",
    "kfold = StratifiedKFold(n_splits=5, shuffle=True, random_state=7)\n",
    "\n",
    "grid_search = GridSearchCV(estimator = rf, \n",
    "                           param_grid = param_grid,\n",
    "                           cv = kfold, \n",
    "                           n_jobs = -1, \n",
    "                           verbose = 2)\n",
    "\n",
    "# Fit the grid search to the data\n",
    "grid_search.fit(X_train,Y_train)"
   ]
  },
  {
   "cell_type": "code",
   "execution_count": 59,
   "metadata": {},
   "outputs": [
    {
     "name": "stdout",
     "output_type": "stream",
     "text": [
      "The best accuracy of 95.13% comes from the following parameters: {'criterion': 'entropy', 'max_depth': 20, 'n_estimators': 100}\n"
     ]
    }
   ],
   "source": [
    "#################### Final Model\n",
    "best_grid = grid_search.best_estimator_\n",
    "best_params = grid_search.best_params_\n",
    "best_index = grid_search.best_index_\n",
    "best_score = grid_search.best_score_\n",
    "\n",
    "print(f\"The best accuracy of {best_score:.2%} comes from the following parameters: {best_params}\")"
   ]
  },
  {
   "cell_type": "code",
   "execution_count": 94,
   "metadata": {},
   "outputs": [
    {
     "name": "stdout",
     "output_type": "stream",
     "text": [
      "[[675  22]\n",
      " [ 38 416]]\n",
      "              precision    recall  f1-score   support\n",
      "\n",
      "         0.0       0.95      0.97      0.96       697\n",
      "         1.0       0.95      0.92      0.93       454\n",
      "\n",
      "    accuracy                           0.95      1151\n",
      "   macro avg       0.95      0.94      0.95      1151\n",
      "weighted avg       0.95      0.95      0.95      1151\n",
      "\n"
     ]
    }
   ],
   "source": [
    "rf_pred = best_grid.predict(X_test)\n",
    "\n",
    "cmRf, crRf = perf_metrics(Y_test, rf_pred)"
   ]
  },
  {
   "cell_type": "markdown",
   "metadata": {},
   "source": [
    "Our last model is the best out of all 4: \n",
    "\n",
    "* **Accuracy**: Accuracy has increased once again to 95%.\n",
    "* **Precision**: Precision has also increased. \n",
    "* **Recall**: Recall has increased to 97% on the 0 class, which means that only 3% of non-spam emails are being classified as spam. "
   ]
  },
  {
   "cell_type": "markdown",
   "metadata": {},
   "source": [
    "### Feature Importances\n",
    "\n",
    "#### Top 5 features\n",
    "\n",
    "We can identify the most important features from our tree-based models."
   ]
  },
  {
   "cell_type": "code",
   "execution_count": 147,
   "metadata": {},
   "outputs": [
    {
     "name": "stdout",
     "output_type": "stream",
     "text": [
      "Decision Tree Model - Top 5 features\n"
     ]
    },
    {
     "data": {
      "text/plain": [
       "[('char_freq_!', 0.408),\n",
       " ('capital_run_length_longest', 0.125),\n",
       " ('word_freq_remove', 0.124),\n",
       " ('word_freq_free', 0.07),\n",
       " ('word_freq_hp', 0.05)]"
      ]
     },
     "execution_count": 147,
     "metadata": {},
     "output_type": "execute_result"
    }
   ],
   "source": [
    "# Random Forest importances\n",
    "treeImp = list(Best_Tree.feature_importances_)\n",
    "treeImpFeatureImps = [(feature, round(importance, 3)) for feature, importance in zip(categories, treeImp)]\n",
    "treeImpFeatureImps = sorted(treeImpFeatureImps, key = lambda x: x[1], reverse = True)\n",
    "print('Decision Tree Model - Top 5 features')\n",
    "treeImpFeatureImps[0:5]"
   ]
  },
  {
   "cell_type": "code",
   "execution_count": 148,
   "metadata": {},
   "outputs": [
    {
     "name": "stdout",
     "output_type": "stream",
     "text": [
      "Random Forest Model - Top 5 features\n"
     ]
    },
    {
     "data": {
      "text/plain": [
       "[('char_freq_!', 0.132),\n",
       " ('char_freq_$', 0.079),\n",
       " ('word_freq_remove', 0.072),\n",
       " ('word_freq_free', 0.066),\n",
       " ('capital_run_length_longest', 0.06)]"
      ]
     },
     "execution_count": 148,
     "metadata": {},
     "output_type": "execute_result"
    }
   ],
   "source": [
    "# Random Forest importances\n",
    "rfImp = list(best_grid.feature_importances_)\n",
    "feature_importances = [(feature, round(importance, 3)) for feature, importance in zip(categories, rfImp)]\n",
    "feature_importances = sorted(feature_importances, key = lambda x: x[1], reverse = True)\n",
    "print('Random Forest Model - Top 5 features')\n",
    "feature_importances[0:5]"
   ]
  },
  {
   "cell_type": "markdown",
   "metadata": {},
   "source": [
    "From this, we can see: \n",
    "* 4 of the 5 top features are in both models.\n",
    "* **char_freq_!** is the top feature in both models, however, it is weighted much higher in the decision tree model than the random forest model. \n",
    "* **char_freq_?** appears as the second highest feature in the random forest model, but doesn't appear at all in the decision tree model. \n",
    "\n",
    "Although both tree models perform very well, the high contribution of the **char_freq_!** feature in the Decision Tree model might be the reason the Random Forest model performs better."
   ]
  },
  {
   "cell_type": "markdown",
   "metadata": {},
   "source": [
    "#### Least Important Features\n",
    "\n",
    "We can also identify the least important features. We'll count how many features have an importance of 0:"
   ]
  },
  {
   "cell_type": "code",
   "execution_count": 150,
   "metadata": {},
   "outputs": [
    {
     "name": "stdout",
     "output_type": "stream",
     "text": [
      "Number of features with 0 importance in Decision Tree Model:  22\n",
      "Number of features with 0 importance in Random Forest Model:  3\n"
     ]
    }
   ],
   "source": [
    "print('Number of features with 0 importance in Decision Tree Model: ',\n",
    "      len([(feat,imp) for feat,imp in treeImpFeatureImps if imp == 0.0]))\n",
    "\n",
    "print('Number of features with 0 importance in Random Forest Model: ',\n",
    "      len([(feat,imp) for feat,imp in feature_importances if imp == 0.0]))"
   ]
  },
  {
   "cell_type": "markdown",
   "metadata": {},
   "source": [
    "This is interesting and tells us that many of the features in the **Decision Tree** model were not used in predicting the classification of spam/not spam. "
   ]
  },
  {
   "cell_type": "markdown",
   "metadata": {},
   "source": [
    "#### Plotting Features\n",
    "We can also plot the feature importances to visualize the contributions of each element. "
   ]
  },
  {
   "cell_type": "code",
   "execution_count": 152,
   "metadata": {},
   "outputs": [
    {
     "data": {
      "image/png": "[encoded data removed]",
      "text/plain": [
       "<Figure size 1800x360 with 1 Axes>"
      ]
     },
     "metadata": {
      "needs_background": "light"
     },
     "output_type": "display_data"
    }
   ],
   "source": [
    "# plot feature importance\n",
    "plt.figure(figsize=(25, 5))\n",
    "plt.bar(*zip(*treeImpFeatureImps), orientation = 'vertical')\n",
    "plt.xticks(rotation='vertical')\n",
    "plt.title(\"Feature Importances - Decision Tree\")\n",
    "plt.show()"
   ]
  },
  {
   "cell_type": "code",
   "execution_count": 151,
   "metadata": {},
   "outputs": [
    {
     "data": {
      "image/png": "[encoded data removed]",
      "text/plain": [
       "<Figure size 1800x360 with 1 Axes>"
      ]
     },
     "metadata": {
      "needs_background": "light"
     },
     "output_type": "display_data"
    }
   ],
   "source": [
    "# plot feature importance\n",
    "plt.figure(figsize=(25, 5))\n",
    "plt.bar(*zip(*feature_importances), orientation = 'vertical')\n",
    "plt.xticks(rotation='vertical')\n",
    "plt.title(\"Feature Importances - Random Forest\")\n",
    "plt.show()"
   ]
  },
  {
   "cell_type": "markdown",
   "metadata": {},
   "source": [
    "This visual shows us that there is a greater balance of feature importances in the Random Forest Model. In other words, more features are contributing to the final prediction."
   ]
  },
  {
   "cell_type": "markdown",
   "metadata": {},
   "source": [
    "### Model Evaluation\n",
    "Finally, we can look at all of our model metrics side-by-side: "
   ]
  },
  {
   "cell_type": "code",
   "execution_count": 105,
   "metadata": {},
   "outputs": [
    {
     "data": {
      "text/html": [
       "<div>\n",
       "<style scoped>\n",
       "    .dataframe tbody tr th:only-of-type {\n",
       "        vertical-align: middle;\n",
       "    }\n",
       "\n",
       "    .dataframe tbody tr th {\n",
       "        vertical-align: top;\n",
       "    }\n",
       "\n",
       "    .dataframe thead th {\n",
       "        text-align: right;\n",
       "    }\n",
       "</style>\n",
       "<table border=\"1\" class=\"dataframe\">\n",
       "  <thead>\n",
       "    <tr style=\"text-align: right;\">\n",
       "      <th></th>\n",
       "      <th>MODEL</th>\n",
       "      <th>RECALL_0CLASS</th>\n",
       "      <th>ACCURACY</th>\n",
       "      <th>PRECISION_OVERALL</th>\n",
       "      <th>RECALL_OVERALL</th>\n",
       "    </tr>\n",
       "  </thead>\n",
       "  <tbody>\n",
       "    <tr>\n",
       "      <th>0</th>\n",
       "      <td>SVM</td>\n",
       "      <td>0.886657</td>\n",
       "      <td>0.711555</td>\n",
       "      <td>0.713693</td>\n",
       "      <td>0.664694</td>\n",
       "    </tr>\n",
       "    <tr>\n",
       "      <th>1</th>\n",
       "      <td>KNN</td>\n",
       "      <td>0.857963</td>\n",
       "      <td>0.807993</td>\n",
       "      <td>0.800429</td>\n",
       "      <td>0.794620</td>\n",
       "    </tr>\n",
       "    <tr>\n",
       "      <th>2</th>\n",
       "      <td>TREE</td>\n",
       "      <td>0.948350</td>\n",
       "      <td>0.913119</td>\n",
       "      <td>0.913609</td>\n",
       "      <td>0.903690</td>\n",
       "    </tr>\n",
       "    <tr>\n",
       "      <th>3</th>\n",
       "      <td>RF</td>\n",
       "      <td>0.968436</td>\n",
       "      <td>0.947871</td>\n",
       "      <td>0.948238</td>\n",
       "      <td>0.942368</td>\n",
       "    </tr>\n",
       "  </tbody>\n",
       "</table>\n",
       "</div>"
      ],
      "text/plain": [
       "  MODEL  RECALL_0CLASS  ACCURACY  PRECISION_OVERALL  RECALL_OVERALL\n",
       "0   SVM       0.886657  0.711555           0.713693        0.664694\n",
       "1   KNN       0.857963  0.807993           0.800429        0.794620\n",
       "2  TREE       0.948350  0.913119           0.913609        0.903690\n",
       "3    RF       0.968436  0.947871           0.948238        0.942368"
      ]
     },
     "execution_count": 105,
     "metadata": {},
     "output_type": "execute_result"
    }
   ],
   "source": [
    "svmMetrics = ('SVM', crSvm['0.0']['recall'], crSvm['accuracy'], crSvm['macro avg']['precision'], crSvm['macro avg']['recall'])\n",
    "knnMetrics = ('KNN', crKnn['0.0']['recall'], crKnn['accuracy'], crKnn['macro avg']['precision'], crKnn['macro avg']['recall'])\n",
    "treeMetrics = ('TREE', crTree['0.0']['recall'], crTree['accuracy'], crTree['macro avg']['precision'], crTree['macro avg']['recall'])\n",
    "rfMetrics = ('RF', crRf['0.0']['recall'], crRf['accuracy'], crRf['macro avg']['precision'], crRf['macro avg']['recall'])\n",
    "\n",
    "metricCompare = pd.DataFrame([svmMetrics, knnMetrics, treeMetrics, rfMetrics], \n",
    "             columns = ['MODEL', 'RECALL_0CLASS', 'ACCURACY', 'PRECISION_OVERALL', 'RECALL_OVERALL'])\n",
    "\n",
    "metricCompare"
   ]
  },
  {
   "cell_type": "markdown",
   "metadata": {},
   "source": [
    "From this, we can see that the fitted random forest model performs the best across all metrics. Although we wanted to optimize for 0 class recall, we have a nice balance between all of our metrics. In other words, not only are we classifying non-spam emails properly, but we're also classifying spam emails well (precision)!"
   ]
  },
  {
   "cell_type": "markdown",
   "metadata": {},
   "source": [
    "### Discussion\n",
    "\n",
    "This analysis shows us that a **Random Forest Model** outperforms the SVM, KNN, and Decision Tree Models when classifying emails as spam/not-spam. We have obtained a final accuracy of just under 95%, a 0-Class recall value of almost 97%, and an overall precision of ~95%. This means that 95% of documents were properly classified, only ~3% of the non-spam emails would be sent to the junk folder, and 95% of the documents classified as spam are actually spam. "
   ]
  },
  {
   "cell_type": "markdown",
   "metadata": {},
   "source": [
    "### Reference\n"
   ]
  },
  {
   "cell_type": "markdown",
   "metadata": {},
   "source": [
    "https://towardsdatascience.com/random-forest-in-python-24d0893d51c0"
   ]
  }
 ],
 "metadata": {
  "kernelspec": {
   "display_name": "Python 3",
   "language": "python",
   "name": "python3"
  },
  "language_info": {
   "codemirror_mode": {
    "name": "ipython",
    "version": 3
   },
   "file_extension": ".py",
   "mimetype": "text/x-python",
   "name": "python",
   "nbconvert_exporter": "python",
   "pygments_lexer": "ipython3",
   "version": "3.7.5"
  }
 },
 "nbformat": 4,
 "nbformat_minor": 4
}
