{
 "cells": [
  {
   "cell_type": "markdown",
   "metadata": {},
   "source": [
    "### CUNY Data 620 - Web Analytics, Summer 2020\n",
    "**Group Homework Assignment 2**  \n",
    "**Prof:** Alain Ledon  \n",
    "**Members:** Misha Kollontai, Amber Ferger, Zach Alexander, Subhalaxmi Rout "
   ]
  },
  {
   "cell_type": "markdown",
   "metadata": {},
   "source": [
    "***\n",
    "\n",
    "#### Project Overview\n",
    "\n",
    "Centrality measures can be used to predict (positive or negative) outcomes for a node.\n",
    "\n",
    "Your task in this week’s assignment is to identify an interesting set of network data that is available on the web (either through web scraping or web APIs) that could be used for analyzing and comparing centrality measures across nodes.  As an additional constraint, there should be at least one categorical variable available for each node (such as “Male” or “Female”; “Republican”, “Democrat,” or “Undecided”, etc.)\n",
    "In addition to identifying your data source, you should create a high level plan that describes how you would load the data for analysis, and describe a hypothetical outcome that could be predicted from comparing degree centrality across categorical groups."
   ]
  },
  {
   "cell_type": "markdown",
   "metadata": {},
   "source": [
    "***\n",
    "\n",
    "#### Data Collection\n",
    "\n",
    "We will use the ‘primary school’ dataset found on the SocioPatterns website. The information comes from a two-day study of interactions between students and teachers and consists of two weighted networks (one for each day of the study). Nodes in the network represent individuals (students and teachers) and edges represent their face-to-face interactions. For this project, we will focus only on the network of the first day's worth of the interactions. \n",
    "\n",
    "**Source** - [Primary School Dataset](http://www.sociopatterns.org/datasets/primary-school-cumulative-networks/)<br>\n",
    "**Format** - The network is stored in a Graph Exchange XML Format (GEXF). <br>\n",
    "**Nodes** - Each node has three attributes: \n",
    "<ol>\n",
    "<li> Classname – school class and grade of the individual</li>\n",
    "<li> Gender – gender of the individual</li>\n",
    "<li> Viz – color, size and position in the network</li>\n",
    "</ol>\n",
    "\n",
    "**Edges** - Each edge is assigned two weights:\n",
    "<ol>\n",
    "<li>Duration – total time of the interaction (measured in multiples of 20 seconds)</li>\n",
    "<li>Count – number of face-to-face interactions between the individuals\n",
    "</li>\n",
    "</ol> \n"
   ]
  },
  {
   "cell_type": "markdown",
   "metadata": {},
   "source": [
    "***\n",
    "#### Research Question\n",
    "\n",
    "From this project, we aim to answer the question: Is there a difference in connectedness (as defined by degree and eigenvector centrality) of males and females? This will tell us if one gender tends to (1) have interactions with a larger number of individuals (degree centrality) and (2) have interactions with individuals that also have a large number of interactions (eigenvector centrality).\n",
    "\n",
    "Further, we would like to know: is there a difference in interaction duration and frequency between genders? This will tell us if one gender tends to have longer and/or more frequent interactions with their peers."
   ]
  },
  {
   "cell_type": "markdown",
   "metadata": {},
   "source": [
    "#### Research Approach\n",
    "\n",
    "Our approach for this project will be to calculate the centrality metrics for each individual and compare the averages between genders. We will use a t-test to validate the statistical significance between the two categories. We will use the same methodology when comparing average duration and frequency of interactions.\n"
   ]
  },
  {
   "cell_type": "markdown",
   "metadata": {},
   "source": [
    "***\n",
    "#### Data Analysis Plan\n",
    "\n",
    "Since our data file is conveniently stored as a .gexf file, we can download the ‘sp_data_school_day1.gz’ folder directly from the given source, extract the .gexf file, and load the file into a Jupyter notebook. Then, we can use the Networkx library to do analysis and our visuals can be made with Networkx and matplotlib.<br>\n",
    "\n",
    "Below is a list of analyses we plan to perform on this dataset:\n",
    "\n",
    "+ **Network Characteristics** – First, we will explore the data and identify the number of nodes and edges, as well as the structure of our network. <br>\n",
    "\n",
    "+ **Network Visualization** - Next, we'll take a preliminary look at the whole network, by visualizing it and using color to more easily denote the categorical features. Specifically, we can create separate visuals of the network and use color on our nodes to differentiate based on gender and/or classname.<br>\n",
    "\n",
    "+ **Calculate Centrality Measures** – After this, we can compute our centrality measures to get a better sense of important nodes within the network, and the degree of interactions with other nodes. We'll compute Eigenvector and degree centrality by category (gender and classname).<br>\n",
    "\n",
    "+ **Run Statistical Analysis on Centrality Measures** - With our centrality measures calculated for each node by category, we can calculate averages across these groups and apply t-tests to see if there are statistically significant differences in average degree centrality and Eigenvector centrality across groups (i.e. is there a difference in average degree centrality between males and females? Is there a difference in average Eigenvector centrality between males and females?). <br>\n",
    "\n",
    "+ **Run Statistical Analysis on our Weights** - After looking through the data a bit, we can also utilize the weights to conduct analysis on the duration and number of face-to-face interactions for each individual in the network, and then split this out across groups. By calculating averages for each group, we can then run t-tests again to see if there are significant differences. Our centrality measure analysis may tell us about important nodes in our network, but our weight analysis may provide different information about the strength of the face-to-face interactions. From this level of analysis, we may be able to answer questions such as, \"Do males or females have more frequent interactions with others in the network?\" or, \"Do females or males have longer interactions with others in their network?\"   <br>\n",
    "\n",
    "+ **Category Visualization** - Finally, after running these analyses, we can create visualizations that combine our weight values and category values to see if we can see noticeable differences in network structure.\n",
    "\n",
    "***\n"
   ]
  }
 ],
 "metadata": {
  "kernelspec": {
   "display_name": "Python 3",
   "language": "python",
   "name": "python3"
  },
  "language_info": {
   "codemirror_mode": {
    "name": "ipython",
    "version": 3
   },
   "file_extension": ".py",
   "mimetype": "text/x-python",
   "name": "python",
   "nbconvert_exporter": "python",
   "pygments_lexer": "ipython3",
   "version": "3.7.5"
  }
 },
 "nbformat": 4,
 "nbformat_minor": 2
}
