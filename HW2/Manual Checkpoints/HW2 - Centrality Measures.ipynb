{
 "cells": [
  {
   "cell_type": "markdown",
   "metadata": {},
   "source": [
    "### CUNY Data 620 - Web Analytics, Summer 2020\n",
    "**Group Homework Assignment 2**  \n",
    "**Prof:** Alain Ledon  \n",
    "**Members:** Misha Kollontai, Amber Ferger, Zach Alexander, Subhalaxmi Rout "
   ]
  },
  {
   "cell_type": "markdown",
   "metadata": {},
   "source": [
    "***\n",
    "\n",
    "#### Project Overview\n",
    "\n",
    "Centrality measures can be used to predict (positive or negative) outcomes for a node.\n",
    "\n",
    "Your task in this week’s assignment is to identify an interesting set of network data that is available on the web (either through web scraping or web APIs) that could be used for analyzing and comparing centrality measures across nodes.  As an additional constraint, there should be at least one categorical variable available for each node (such as “Male” or “Female”; “Republican”, “Democrat,” or “Undecided”, etc.)\n",
    "In addition to identifying your data source, you should create a high level plan that describes how you would load the data for analysis, and describe a hypothetical outcome that could be predicted from comparing degree centrality across categorical groups."
   ]
  },
  {
   "cell_type": "markdown",
   "metadata": {},
   "source": [
    "***\n",
    "\n",
    "#### Data Collection\n",
    "\n",
    "The dataset we are going to use is ‘primary school’ data, found on the SocioPatterns website. The dataset consists of two weighted networks of face-to-face proximity between students and teachers. For each day of the study, a daily contact network is provided: nodes are individuals and edges represent face-to-face interactions.\n",
    "\n",
    "**Source** - [Primary School Dataset](http://www.sociopatterns.org/datasets/primary-school-cumulative-networks/)<br>\n",
    "**Format** - The network is stored in a Graph Exchange XML Format (GEXF). <br>\n",
    "**Description** - This dataset nodes are individuals and edges represent face-to-face interactions. <br>\n",
    "Each nodes has two attributes associated with it, i.e ‘Classname’ and ‘Gender’.\n",
    "<ol>\n",
    "<li> Classname - school class and grade of the corresponding individual</li>\n",
    "<li> Gender – Gender of individuals</li>\n",
    "</ol>\n",
    "\n",
    "The edges have two weights associated with it, i.e ‘duration’ and ‘count’.\n",
    "<ol>\n",
    "<li>Duration – Time in seconds spent between individuals</li>\n",
    "<li>Count – The number of face-to-face interactions between the individuals, measured in seconds (multiples of 20 seconds)\n",
    "</li>\n",
    "</ol>\n",
    "\n",
    "***"
   ]
  },
  {
   "cell_type": "markdown",
   "metadata": {},
   "source": [
    "#### Data Analysis Plan\n",
    "\n",
    "Since our data file can conveniently be downloaded as a .gexf file, we can download the ‘sp_data_school_day1.gz’ folder directly from the given source, extract the .gexf file, and load the file into a Jupyter notebook. Then, we can use the Networkx library to do analysis and our visuals can be made with Networkx and matplotlib.<br>\n",
    "\n",
    "Below is a list of analyses we plan to perform on this dataset:\n",
    "\n",
    "+ **Network Characteristics** – First, we will explore the data and identify the number of nodes and edges, as well as the structure of our network. <br>\n",
    "\n",
    "+ **Network Visualization** - Next, we'll take a preliminary look at the whole network, by visualizing it and using color to more easily denote the categorical features. Specifically, we can create separate visuals of the network and use color on our nodes to differentiate based on gender and/or classname.<br>\n",
    "\n",
    "+ **Calculate Centrality Measures** – After this, we can compute our centrality measures to get a better sense of important nodes within the network, and the degree of interactions with other nodes. We'll compute Eigenvector and degree centrality by category (gender and classname).<br>\n",
    "\n",
    "+ **Run Statistical Analysis on Centrality Measures** - With our centrality measures calculated for each node by category, we can calculate averages across these groups and apply t-tests to see if there are statistically significant differences in average degree centrality and Eigenvector centrality across groups (i.e. is there a difference in average degree centrality between males and females? Is there a difference in average Eigenvector centrality between males and females?). <br>\n",
    "\n",
    "+ **Run Statistical Analysis on our Weights** - After looking through the data a bit, we can also utilize the weights to conduct analysis on the duration and number of face-to-face interactions for each individual in the network, and then split this out across groups. By calculating averages for each group, we can then run t-tests again to see if there are significant differences. Our centrality measure analysis may tell us important information about important nodes in our network, our centrality measures may tell us different things than the weight analysis -- which would measure more of the strength of face-to-face interactions of nodes in the network. From this level of analysis, we may be able to answer questions such as, \"Do males or females have more frequent interactions with others in the network?\" or, \"Do females or males have longer interactions with others in their network?\"   <br>\n",
    "\n",
    "+ **Category Visualization** - Finally, after running these analyses, we can create visualizations that combine our weight values and category values to see if we can see noticeable differences in network structure.\n",
    "\n",
    "***\n"
   ]
  },
  {
   "cell_type": "code",
   "execution_count": null,
   "metadata": {},
   "outputs": [],
   "source": []
  }
 ],
 "metadata": {
  "kernelspec": {
   "display_name": "Python 3",
   "language": "python",
   "name": "python3"
  },
  "language_info": {
   "codemirror_mode": {
    "name": "ipython",
    "version": 3
   },
   "file_extension": ".py",
   "mimetype": "text/x-python",
   "name": "python",
   "nbconvert_exporter": "python",
   "pygments_lexer": "ipython3",
   "version": "3.7.6"
  }
 },
 "nbformat": 4,
 "nbformat_minor": 2
}
